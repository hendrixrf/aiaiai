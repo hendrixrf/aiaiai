{
 "cells": [
  {
   "cell_type": "markdown",
   "metadata": {
    "id": "6AwUmMspLWQs"
   },
   "source": [
    "# Analisis de datos\n",
    "## Introducción a Pandas\n",
    "## Índice:\n",
    "1. [Extracción de datos](#Extraer-datos:-Restaurant)\n",
    "2. [Filtrar datos](#Filtrar-datos)\n",
    "3. [GroupBy](#GroupBy)\n",
    "4. [Apply](#Apply:-Student-Alcohol-Consumption)\n",
    "5. [Merge](#Merge:-Housing-Market)\n",
    "6. [Stats](#Stats:-US---Baby-Names)\n",
    "7. [Deleting](#Deleting:-Iris)\n",
    "8. [Bonus](#lab#Bonus:)\n",
    "\n",
    "<b>Nota:</b>\n",
    "Esta practica esta basada en los ejercicios de varios recursos online como:\n",
    "\n",
    "* https://github.com/ajcr/100-pandas-puzzles/blob/master/100-pandas-puzzles.ipynb\n",
    "* https://www.machinelearningplus.com/python/101-pandas-exercises-python/\n",
    "* https://www.kaggle.com/learn/pandas\n",
    "* https://github.com/facuzeta/pandas_exercises\n",
    "* https://github.com/guipsamora/pandas_exercises"
   ]
  },
  {
   "cell_type": "markdown",
   "metadata": {
    "id": "4X3UIedwLWQx"
   },
   "source": [
    "# Extraer datos: Restaurant\n",
    "Referencias:\n",
    "* [Read_csv](https://pandas.pydata.org/pandas-docs/stable/reference/api/pandas.read_csv.html)\n",
    "* [Group by](https://pandas.pydata.org/pandas-docs/stable/reference/api/pandas.DataFrame.groupby.html)\n",
    "* [dtype](https://pandas.pydata.org/pandas-docs/stable/reference/api/pandas.DataFrame.dtypes.html)\n"
   ]
  },
  {
   "cell_type": "markdown",
   "metadata": {
    "id": "okRDg6tNLWQy"
   },
   "source": [
    "1. Import the necessary libraries"
   ]
  },
  {
   "cell_type": "code",
   "execution_count": 1,
   "metadata": {
    "id": "2iK3vIQ3LWQy",
    "jupyter": {
     "outputs_hidden": false
    }
   },
   "outputs": [],
   "source": [
    "import pandas as pd"
   ]
  },
  {
   "cell_type": "markdown",
   "metadata": {
    "id": "xSewdfUzLWQz"
   },
   "source": [
    "2. Import the dataset from this [address](https://raw.githubusercontent.com/justmarkham/DAT8/master/data/chipotle.tsv). "
   ]
  },
  {
   "cell_type": "code",
   "execution_count": 3,
   "metadata": {
    "colab": {
     "base_uri": "https://localhost:8080/",
     "height": 363
    },
    "executionInfo": {
     "elapsed": 777,
     "status": "ok",
     "timestamp": 1646423338979,
     "user": {
      "displayName": "Nahuel Pelli",
      "photoUrl": "https://lh3.googleusercontent.com/a-/AOh14GgU7PtRzC6NJV6RaE6PvcR4u74SbOBZ3uKzPpmoEQ=s64",
      "userId": "14684882614154306819"
     },
     "user_tz": 180
    },
    "id": "_VLIMxRrLWQz",
    "outputId": "6d8e0255-cfff-4178-a2a0-9d95d4167f68"
   },
   "outputs": [],
   "source": [
    "url = \"https://raw.githubusercontent.com/justmarkham/DAT8/master/data/chipotle.tsv\"\n"
   ]
  },
  {
   "cell_type": "markdown",
   "metadata": {
    "id": "dYY_u41uLWQz"
   },
   "source": [
    "3. Assign it to a variable called chipo."
   ]
  },
  {
   "cell_type": "code",
   "execution_count": 5,
   "metadata": {
    "id": "ig-N5jkeLWQ0",
    "jupyter": {
     "outputs_hidden": false
    }
   },
   "outputs": [],
   "source": [
    "chipo = pd.read_csv(url, sep='\\t')"
   ]
  },
  {
   "cell_type": "markdown",
   "metadata": {
    "id": "VKyZq0DyLWQ0"
   },
   "source": [
    "4. See the first 10 entries"
   ]
  },
  {
   "cell_type": "code",
   "execution_count": 6,
   "metadata": {
    "colab": {
     "base_uri": "https://localhost:8080/",
     "height": 359
    },
    "id": "sFeQgelFLWQ0",
    "jupyter": {
     "outputs_hidden": false
    },
    "outputId": "a9195582-d0db-446e-89a7-cc1c9180d516"
   },
   "outputs": [
    {
     "data": {
      "text/html": [
       "<div>\n",
       "<style scoped>\n",
       "    .dataframe tbody tr th:only-of-type {\n",
       "        vertical-align: middle;\n",
       "    }\n",
       "\n",
       "    .dataframe tbody tr th {\n",
       "        vertical-align: top;\n",
       "    }\n",
       "\n",
       "    .dataframe thead th {\n",
       "        text-align: right;\n",
       "    }\n",
       "</style>\n",
       "<table border=\"1\" class=\"dataframe\">\n",
       "  <thead>\n",
       "    <tr style=\"text-align: right;\">\n",
       "      <th></th>\n",
       "      <th>order_id</th>\n",
       "      <th>quantity</th>\n",
       "      <th>item_name</th>\n",
       "      <th>choice_description</th>\n",
       "      <th>item_price</th>\n",
       "    </tr>\n",
       "  </thead>\n",
       "  <tbody>\n",
       "    <tr>\n",
       "      <th>0</th>\n",
       "      <td>1</td>\n",
       "      <td>1</td>\n",
       "      <td>Chips and Fresh Tomato Salsa</td>\n",
       "      <td>NaN</td>\n",
       "      <td>$2.39</td>\n",
       "    </tr>\n",
       "    <tr>\n",
       "      <th>1</th>\n",
       "      <td>1</td>\n",
       "      <td>1</td>\n",
       "      <td>Izze</td>\n",
       "      <td>[Clementine]</td>\n",
       "      <td>$3.39</td>\n",
       "    </tr>\n",
       "    <tr>\n",
       "      <th>2</th>\n",
       "      <td>1</td>\n",
       "      <td>1</td>\n",
       "      <td>Nantucket Nectar</td>\n",
       "      <td>[Apple]</td>\n",
       "      <td>$3.39</td>\n",
       "    </tr>\n",
       "    <tr>\n",
       "      <th>3</th>\n",
       "      <td>1</td>\n",
       "      <td>1</td>\n",
       "      <td>Chips and Tomatillo-Green Chili Salsa</td>\n",
       "      <td>NaN</td>\n",
       "      <td>$2.39</td>\n",
       "    </tr>\n",
       "    <tr>\n",
       "      <th>4</th>\n",
       "      <td>2</td>\n",
       "      <td>2</td>\n",
       "      <td>Chicken Bowl</td>\n",
       "      <td>[Tomatillo-Red Chili Salsa (Hot), [Black Beans...</td>\n",
       "      <td>$16.98</td>\n",
       "    </tr>\n",
       "    <tr>\n",
       "      <th>5</th>\n",
       "      <td>3</td>\n",
       "      <td>1</td>\n",
       "      <td>Chicken Bowl</td>\n",
       "      <td>[Fresh Tomato Salsa (Mild), [Rice, Cheese, Sou...</td>\n",
       "      <td>$10.98</td>\n",
       "    </tr>\n",
       "    <tr>\n",
       "      <th>6</th>\n",
       "      <td>3</td>\n",
       "      <td>1</td>\n",
       "      <td>Side of Chips</td>\n",
       "      <td>NaN</td>\n",
       "      <td>$1.69</td>\n",
       "    </tr>\n",
       "    <tr>\n",
       "      <th>7</th>\n",
       "      <td>4</td>\n",
       "      <td>1</td>\n",
       "      <td>Steak Burrito</td>\n",
       "      <td>[Tomatillo Red Chili Salsa, [Fajita Vegetables...</td>\n",
       "      <td>$11.75</td>\n",
       "    </tr>\n",
       "    <tr>\n",
       "      <th>8</th>\n",
       "      <td>4</td>\n",
       "      <td>1</td>\n",
       "      <td>Steak Soft Tacos</td>\n",
       "      <td>[Tomatillo Green Chili Salsa, [Pinto Beans, Ch...</td>\n",
       "      <td>$9.25</td>\n",
       "    </tr>\n",
       "    <tr>\n",
       "      <th>9</th>\n",
       "      <td>5</td>\n",
       "      <td>1</td>\n",
       "      <td>Steak Burrito</td>\n",
       "      <td>[Fresh Tomato Salsa, [Rice, Black Beans, Pinto...</td>\n",
       "      <td>$9.25</td>\n",
       "    </tr>\n",
       "  </tbody>\n",
       "</table>\n",
       "</div>"
      ],
      "text/plain": [
       "   order_id  quantity                              item_name  \\\n",
       "0         1         1           Chips and Fresh Tomato Salsa   \n",
       "1         1         1                                   Izze   \n",
       "2         1         1                       Nantucket Nectar   \n",
       "3         1         1  Chips and Tomatillo-Green Chili Salsa   \n",
       "4         2         2                           Chicken Bowl   \n",
       "5         3         1                           Chicken Bowl   \n",
       "6         3         1                          Side of Chips   \n",
       "7         4         1                          Steak Burrito   \n",
       "8         4         1                       Steak Soft Tacos   \n",
       "9         5         1                          Steak Burrito   \n",
       "\n",
       "                                  choice_description item_price  \n",
       "0                                                NaN     $2.39   \n",
       "1                                       [Clementine]     $3.39   \n",
       "2                                            [Apple]     $3.39   \n",
       "3                                                NaN     $2.39   \n",
       "4  [Tomatillo-Red Chili Salsa (Hot), [Black Beans...    $16.98   \n",
       "5  [Fresh Tomato Salsa (Mild), [Rice, Cheese, Sou...    $10.98   \n",
       "6                                                NaN     $1.69   \n",
       "7  [Tomatillo Red Chili Salsa, [Fajita Vegetables...    $11.75   \n",
       "8  [Tomatillo Green Chili Salsa, [Pinto Beans, Ch...     $9.25   \n",
       "9  [Fresh Tomato Salsa, [Rice, Black Beans, Pinto...     $9.25   "
      ]
     },
     "execution_count": 6,
     "metadata": {},
     "output_type": "execute_result"
    }
   ],
   "source": [
    "chipo.head(10)"
   ]
  },
  {
   "cell_type": "markdown",
   "metadata": {
    "id": "XOpgSzGTLWQ0"
   },
   "source": [
    "5. What is the number of observations in the dataset?"
   ]
  },
  {
   "cell_type": "code",
   "execution_count": 10,
   "metadata": {
    "colab": {
     "base_uri": "https://localhost:8080/"
    },
    "id": "ZlIsthm9LWQ0",
    "jupyter": {
     "outputs_hidden": false
    },
    "outputId": "11535247-fbc3-486a-dd82-373118715313"
   },
   "outputs": [
    {
     "data": {
      "text/plain": [
       "4622"
      ]
     },
     "execution_count": 10,
     "metadata": {},
     "output_type": "execute_result"
    }
   ],
   "source": [
    "chipo.shape[0]"
   ]
  },
  {
   "cell_type": "markdown",
   "metadata": {
    "id": "A_zyqaW2LWQ1"
   },
   "source": [
    "6. What is the number of columns in the dataset?"
   ]
  },
  {
   "cell_type": "code",
   "execution_count": 11,
   "metadata": {
    "colab": {
     "base_uri": "https://localhost:8080/"
    },
    "id": "FY5NeTYtLWQ1",
    "jupyter": {
     "outputs_hidden": false
    },
    "outputId": "495f2694-f424-480f-8dc7-8d2d40f122db"
   },
   "outputs": [
    {
     "data": {
      "text/plain": [
       "5"
      ]
     },
     "execution_count": 11,
     "metadata": {},
     "output_type": "execute_result"
    }
   ],
   "source": [
    "chipo.shape[1]"
   ]
  },
  {
   "cell_type": "markdown",
   "metadata": {
    "id": "kRwZ7UorLWQ1"
   },
   "source": [
    "7. Print the name of all the columns."
   ]
  },
  {
   "cell_type": "code",
   "execution_count": 17,
   "metadata": {
    "colab": {
     "base_uri": "https://localhost:8080/"
    },
    "id": "ASWOa3-ZLWQ1",
    "jupyter": {
     "outputs_hidden": false
    },
    "outputId": "62365e67-c1b4-4320-aa3b-f4d827691c29"
   },
   "outputs": [
    {
     "name": "stdout",
     "output_type": "stream",
     "text": [
      "order_id\n",
      "quantity\n",
      "item_name\n",
      "choice_description\n",
      "item_price\n"
     ]
    }
   ],
   "source": [
    "for c in chipo.columns:\n",
    "    print(c)"
   ]
  },
  {
   "cell_type": "markdown",
   "metadata": {
    "id": "h0VGApWHLWQ1"
   },
   "source": [
    "9. Which was the most-ordered item? "
   ]
  },
  {
   "cell_type": "code",
   "execution_count": 18,
   "metadata": {
    "colab": {
     "base_uri": "https://localhost:8080/"
    },
    "id": "vfUv6xTrLWQ2",
    "jupyter": {
     "outputs_hidden": false
    },
    "outputId": "06f38ac3-cfd1-4509-a9a9-80e4707845d7"
   },
   "outputs": [
    {
     "data": {
      "text/plain": [
       "Chicken Bowl                             726\n",
       "Chicken Burrito                          553\n",
       "Chips and Guacamole                      479\n",
       "Steak Burrito                            368\n",
       "Canned Soft Drink                        301\n",
       "Steak Bowl                               211\n",
       "Chips                                    211\n",
       "Bottled Water                            162\n",
       "Chicken Soft Tacos                       115\n",
       "Chips and Fresh Tomato Salsa             110\n",
       "Chicken Salad Bowl                       110\n",
       "Canned Soda                              104\n",
       "Side of Chips                            101\n",
       "Veggie Burrito                            95\n",
       "Barbacoa Burrito                          91\n",
       "Veggie Bowl                               85\n",
       "Carnitas Bowl                             68\n",
       "Barbacoa Bowl                             66\n",
       "Carnitas Burrito                          59\n",
       "Steak Soft Tacos                          55\n",
       "6 Pack Soft Drink                         54\n",
       "Chips and Tomatillo Red Chili Salsa       48\n",
       "Chicken Crispy Tacos                      47\n",
       "Chips and Tomatillo Green Chili Salsa     43\n",
       "Carnitas Soft Tacos                       40\n",
       "Steak Crispy Tacos                        35\n",
       "Chips and Tomatillo-Green Chili Salsa     31\n",
       "Steak Salad Bowl                          29\n",
       "Nantucket Nectar                          27\n",
       "Barbacoa Soft Tacos                       25\n",
       "Chips and Roasted Chili Corn Salsa        22\n",
       "Izze                                      20\n",
       "Chips and Tomatillo-Red Chili Salsa       20\n",
       "Veggie Salad Bowl                         18\n",
       "Chips and Roasted Chili-Corn Salsa        18\n",
       "Barbacoa Crispy Tacos                     11\n",
       "Barbacoa Salad Bowl                       10\n",
       "Chicken Salad                              9\n",
       "Veggie Soft Tacos                          7\n",
       "Carnitas Crispy Tacos                      7\n",
       "Veggie Salad                               6\n",
       "Carnitas Salad Bowl                        6\n",
       "Burrito                                    6\n",
       "Steak Salad                                4\n",
       "Crispy Tacos                               2\n",
       "Salad                                      2\n",
       "Bowl                                       2\n",
       "Chips and Mild Fresh Tomato Salsa          1\n",
       "Veggie Crispy Tacos                        1\n",
       "Carnitas Salad                             1\n",
       "Name: item_name, dtype: int64"
      ]
     },
     "execution_count": 18,
     "metadata": {},
     "output_type": "execute_result"
    }
   ],
   "source": [
    "chipo['item_name'].value_counts()"
   ]
  },
  {
   "cell_type": "markdown",
   "metadata": {
    "id": "N4deH-NVLWQ2"
   },
   "source": [
    "10. For the most-ordered item, how many items were ordered?"
   ]
  },
  {
   "cell_type": "code",
   "execution_count": 21,
   "metadata": {
    "id": "etwXa6J7LWQ2",
    "jupyter": {
     "outputs_hidden": false
    }
   },
   "outputs": [
    {
     "data": {
      "text/plain": [
       "726"
      ]
     },
     "execution_count": 21,
     "metadata": {},
     "output_type": "execute_result"
    }
   ],
   "source": [
    "chipo['item_name'].value_counts().max()"
   ]
  },
  {
   "cell_type": "markdown",
   "metadata": {
    "id": "ntBJqX4SLWQ2"
   },
   "source": [
    "11. What was the most ordered item in the choice_description column?"
   ]
  },
  {
   "cell_type": "code",
   "execution_count": 28,
   "metadata": {
    "colab": {
     "base_uri": "https://localhost:8080/"
    },
    "id": "4jzikxFFLWQ2",
    "jupyter": {
     "outputs_hidden": false
    },
    "outputId": "863a5f40-958f-461a-ee0a-329707db2e5b"
   },
   "outputs": [
    {
     "data": {
      "text/plain": [
       "[Diet Coke]                                                                                                                                      134\n",
       "[Coke]                                                                                                                                           123\n",
       "[Sprite]                                                                                                                                          77\n",
       "[Fresh Tomato Salsa, [Rice, Black Beans, Cheese, Sour Cream, Lettuce]]                                                                            42\n",
       "[Fresh Tomato Salsa, [Rice, Black Beans, Cheese, Sour Cream, Guacamole, Lettuce]]                                                                 40\n",
       "                                                                                                                                                ... \n",
       "[Fresh Tomato Salsa (Mild), [Pinto Beans, Black Beans, Rice, Cheese, Sour Cream, Lettuce]]                                                         1\n",
       "[[Fresh Tomato Salsa (Mild), Roasted Chili Corn Salsa (Medium), Tomatillo-Red Chili Salsa (Hot)], [Pinto Beans, Cheese, Sour Cream, Lettuce]]      1\n",
       "[Fresh Tomato (Mild), [Guacamole, Rice, Black Beans]]                                                                                              1\n",
       "[[Tomatillo-Green Chili Salsa (Medium), Tomatillo-Red Chili Salsa (Hot)], [Black Beans, Rice, Cheese, Lettuce]]                                    1\n",
       "[Tomatillo Green Chili Salsa, [Rice, Fajita Vegetables, Black Beans, Guacamole]]                                                                   1\n",
       "Name: choice_description, Length: 1043, dtype: int64"
      ]
     },
     "execution_count": 28,
     "metadata": {},
     "output_type": "execute_result"
    }
   ],
   "source": [
    "chipo['choice_description'].value_counts()"
   ]
  },
  {
   "cell_type": "markdown",
   "metadata": {
    "id": "_Aq5-jgiLWQ2"
   },
   "source": [
    "12. How many items were orderd in total?"
   ]
  },
  {
   "cell_type": "code",
   "execution_count": 43,
   "metadata": {
    "colab": {
     "base_uri": "https://localhost:8080/"
    },
    "id": "eVTihynzLWQ2",
    "jupyter": {
     "outputs_hidden": false
    },
    "outputId": "dc0402d2-578f-4289-c4f0-d1b8af68d8e1"
   },
   "outputs": [
    {
     "data": {
      "text/plain": [
       "4972"
      ]
     },
     "execution_count": 43,
     "metadata": {},
     "output_type": "execute_result"
    }
   ],
   "source": [
    "chipo['quantity'].sum()"
   ]
  },
  {
   "cell_type": "markdown",
   "metadata": {
    "id": "X0Q950_0LWQ3"
   },
   "source": [
    "13. Turn the item price into a float"
   ]
  },
  {
   "cell_type": "code",
   "execution_count": 56,
   "metadata": {
    "colab": {
     "base_uri": "https://localhost:8080/",
     "height": 359
    },
    "id": "mUnaM3oYNAvH",
    "outputId": "b61bf51f-2aa2-4a53-b863-50f51e6bb45d"
   },
   "outputs": [
    {
     "name": "stderr",
     "output_type": "stream",
     "text": [
      "<ipython-input-56-8562d8cb4874>:1: FutureWarning: The default value of regex will change from True to False in a future version. In addition, single character regular expressions will *not* be treated as literal strings when regex=True.\n",
      "  chipo['item_price'] = chipo['item_price'].str.replace('$', '').astype(float)\n"
     ]
    }
   ],
   "source": [
    "chipo['item_price'] = chipo['item_price'].str.replace('$', '').astype(float)"
   ]
  },
  {
   "cell_type": "code",
   "execution_count": 57,
   "metadata": {},
   "outputs": [
    {
     "data": {
      "text/plain": [
       "0        2.39\n",
       "1        3.39\n",
       "2        3.39\n",
       "3        2.39\n",
       "4       16.98\n",
       "        ...  \n",
       "4617    11.75\n",
       "4618    11.75\n",
       "4619    11.25\n",
       "4620     8.75\n",
       "4621     8.75\n",
       "Name: item_price, Length: 4622, dtype: float64"
      ]
     },
     "execution_count": 57,
     "metadata": {},
     "output_type": "execute_result"
    }
   ],
   "source": [
    "chipo['item_price']"
   ]
  },
  {
   "cell_type": "markdown",
   "metadata": {
    "id": "rn-xjtF3LWQ3"
   },
   "source": [
    "13.a. Check the item price type"
   ]
  },
  {
   "cell_type": "code",
   "execution_count": 60,
   "metadata": {
    "colab": {
     "base_uri": "https://localhost:8080/"
    },
    "id": "FxQw2E8_LWQ3",
    "jupyter": {
     "outputs_hidden": false
    },
    "outputId": "58929d0b-5609-46eb-df71-98890f998130"
   },
   "outputs": [
    {
     "data": {
      "text/plain": [
       "numpy.float64"
      ]
     },
     "execution_count": 60,
     "metadata": {},
     "output_type": "execute_result"
    }
   ],
   "source": [
    "type(chipo['item_price'][1])"
   ]
  },
  {
   "cell_type": "markdown",
   "metadata": {
    "id": "52HluI67LWQ3"
   },
   "source": [
    "13.b. Change the type of the column into a float"
   ]
  },
  {
   "cell_type": "code",
   "execution_count": null,
   "metadata": {
    "id": "OM3AYtp9LWQ3"
   },
   "outputs": [],
   "source": []
  },
  {
   "cell_type": "markdown",
   "metadata": {
    "id": "qR_-i3KJLWQ3"
   },
   "source": [
    "13.c. Check the item price type"
   ]
  },
  {
   "cell_type": "code",
   "execution_count": 61,
   "metadata": {
    "colab": {
     "base_uri": "https://localhost:8080/"
    },
    "id": "3S7hCVbOLWQ3",
    "jupyter": {
     "outputs_hidden": false
    },
    "outputId": "84ae8ea5-0e0d-4143-d820-f50067542182"
   },
   "outputs": [
    {
     "data": {
      "text/plain": [
       "dtype('float64')"
      ]
     },
     "execution_count": 61,
     "metadata": {},
     "output_type": "execute_result"
    }
   ],
   "source": [
    "chipo['item_price'].dtype"
   ]
  },
  {
   "cell_type": "markdown",
   "metadata": {
    "id": "ZzMn0KJOLWQ3"
   },
   "source": [
    "14. How much was the revenue for the period in the dataset?"
   ]
  },
  {
   "cell_type": "code",
   "execution_count": 65,
   "metadata": {
    "colab": {
     "base_uri": "https://localhost:8080/"
    },
    "id": "PBOKPQB-LWQ4",
    "jupyter": {
     "outputs_hidden": false
    },
    "outputId": "253bedc8-71e8-4ecc-9553-e2986aa65126"
   },
   "outputs": [],
   "source": [
    "df['subtotal'] = chipo['item_price']*chipo['quantity']"
   ]
  },
  {
   "cell_type": "code",
   "execution_count": 67,
   "metadata": {},
   "outputs": [
    {
     "data": {
      "text/plain": [
       "39237.02"
      ]
     },
     "execution_count": 67,
     "metadata": {},
     "output_type": "execute_result"
    }
   ],
   "source": [
    "df['subtotal'].sum()"
   ]
  },
  {
   "cell_type": "markdown",
   "metadata": {
    "id": "ysnSRPRfLWQ4"
   },
   "source": [
    "15. How many orders were made in the period?"
   ]
  },
  {
   "cell_type": "code",
   "execution_count": 95,
   "metadata": {
    "colab": {
     "base_uri": "https://localhost:8080/"
    },
    "id": "nhOFFT2_LWQ4",
    "jupyter": {
     "outputs_hidden": false
    },
    "outputId": "4a7a9570-0b81-4191-ead2-3738fb6e484e"
   },
   "outputs": [
    {
     "name": "stdout",
     "output_type": "stream",
     "text": [
      "1834\n"
     ]
    }
   ],
   "source": [
    "print(chipo['order_id'].nunique())"
   ]
  },
  {
   "cell_type": "markdown",
   "metadata": {
    "id": "BjZjbxbTLWQ4"
   },
   "source": [
    "16. What is the average revenue amount per order?"
   ]
  },
  {
   "cell_type": "code",
   "execution_count": 83,
   "metadata": {
    "colab": {
     "base_uri": "https://localhost:8080/",
     "height": 450
    },
    "id": "t9u8Q064LWQ4",
    "jupyter": {
     "outputs_hidden": false
    },
    "outputId": "ce1ac59e-c31a-48f7-bd46-0980940aa54a"
   },
   "outputs": [
    {
     "data": {
      "text/html": [
       "<div>\n",
       "<style scoped>\n",
       "    .dataframe tbody tr th:only-of-type {\n",
       "        vertical-align: middle;\n",
       "    }\n",
       "\n",
       "    .dataframe tbody tr th {\n",
       "        vertical-align: top;\n",
       "    }\n",
       "\n",
       "    .dataframe thead th {\n",
       "        text-align: right;\n",
       "    }\n",
       "</style>\n",
       "<table border=\"1\" class=\"dataframe\">\n",
       "  <thead>\n",
       "    <tr style=\"text-align: right;\">\n",
       "      <th></th>\n",
       "      <th>quantity</th>\n",
       "      <th>item_price</th>\n",
       "    </tr>\n",
       "    <tr>\n",
       "      <th>order_id</th>\n",
       "      <th></th>\n",
       "      <th></th>\n",
       "    </tr>\n",
       "  </thead>\n",
       "  <tbody>\n",
       "    <tr>\n",
       "      <th>1</th>\n",
       "      <td>1.0</td>\n",
       "      <td>2.890000</td>\n",
       "    </tr>\n",
       "    <tr>\n",
       "      <th>2</th>\n",
       "      <td>2.0</td>\n",
       "      <td>16.980000</td>\n",
       "    </tr>\n",
       "    <tr>\n",
       "      <th>3</th>\n",
       "      <td>1.0</td>\n",
       "      <td>6.335000</td>\n",
       "    </tr>\n",
       "    <tr>\n",
       "      <th>4</th>\n",
       "      <td>1.0</td>\n",
       "      <td>10.500000</td>\n",
       "    </tr>\n",
       "    <tr>\n",
       "      <th>5</th>\n",
       "      <td>1.0</td>\n",
       "      <td>6.850000</td>\n",
       "    </tr>\n",
       "    <tr>\n",
       "      <th>...</th>\n",
       "      <td>...</td>\n",
       "      <td>...</td>\n",
       "    </tr>\n",
       "    <tr>\n",
       "      <th>1830</th>\n",
       "      <td>1.0</td>\n",
       "      <td>11.500000</td>\n",
       "    </tr>\n",
       "    <tr>\n",
       "      <th>1831</th>\n",
       "      <td>1.0</td>\n",
       "      <td>4.300000</td>\n",
       "    </tr>\n",
       "    <tr>\n",
       "      <th>1832</th>\n",
       "      <td>1.0</td>\n",
       "      <td>6.600000</td>\n",
       "    </tr>\n",
       "    <tr>\n",
       "      <th>1833</th>\n",
       "      <td>1.0</td>\n",
       "      <td>11.750000</td>\n",
       "    </tr>\n",
       "    <tr>\n",
       "      <th>1834</th>\n",
       "      <td>1.0</td>\n",
       "      <td>9.583333</td>\n",
       "    </tr>\n",
       "  </tbody>\n",
       "</table>\n",
       "<p>1834 rows × 2 columns</p>\n",
       "</div>"
      ],
      "text/plain": [
       "          quantity  item_price\n",
       "order_id                      \n",
       "1              1.0    2.890000\n",
       "2              2.0   16.980000\n",
       "3              1.0    6.335000\n",
       "4              1.0   10.500000\n",
       "5              1.0    6.850000\n",
       "...            ...         ...\n",
       "1830           1.0   11.500000\n",
       "1831           1.0    4.300000\n",
       "1832           1.0    6.600000\n",
       "1833           1.0   11.750000\n",
       "1834           1.0    9.583333\n",
       "\n",
       "[1834 rows x 2 columns]"
      ]
     },
     "execution_count": 83,
     "metadata": {},
     "output_type": "execute_result"
    }
   ],
   "source": [
    "chipo.groupby('order_id').mean()"
   ]
  },
  {
   "cell_type": "markdown",
   "metadata": {
    "id": "6YOOtqiULWQ4"
   },
   "source": [
    "17. How many different items are sold?"
   ]
  },
  {
   "cell_type": "code",
   "execution_count": 98,
   "metadata": {
    "colab": {
     "base_uri": "https://localhost:8080/"
    },
    "id": "RW29DemIVPrw",
    "outputId": "5cc35e06-efcb-4073-d940-231145e5e37e"
   },
   "outputs": [
    {
     "data": {
      "text/plain": [
       "50"
      ]
     },
     "execution_count": 98,
     "metadata": {},
     "output_type": "execute_result"
    }
   ],
   "source": [
    "chipo['item_name'].nunique()"
   ]
  },
  {
   "cell_type": "markdown",
   "metadata": {
    "id": "VllGvAA5LWQ4"
   },
   "source": [
    "18. How many products cost more than $10.00?"
   ]
  },
  {
   "cell_type": "code",
   "execution_count": 94,
   "metadata": {
    "colab": {
     "base_uri": "https://localhost:8080/"
    },
    "id": "a4XchAt7LWQ4",
    "jupyter": {
     "outputs_hidden": false
    },
    "outputId": "8c15a6a5-3263-402c-a126-a6f001170b30"
   },
   "outputs": [
    {
     "data": {
      "text/plain": [
       "1130"
      ]
     },
     "execution_count": 94,
     "metadata": {},
     "output_type": "execute_result"
    }
   ],
   "source": [
    "len(chipo[chipo['item_price'] > 10])\n",
    "\n"
   ]
  },
  {
   "cell_type": "markdown",
   "metadata": {
    "id": "gOsrQvZ-LWQ5"
   },
   "source": [
    "# Filtrar datos\n",
    "Referencias:\n",
    "* [Reset Index](https://pandas.pydata.org/pandas-docs/stable/reference/api/pandas.DataFrame.reset_index.html)\n",
    "* [Sort values](https://pandas.pydata.org/pandas-docs/stable/reference/api/pandas.DataFrame.sort_values.html?highlight=sort_values#pandas.DataFrame.sort_values)"
   ]
  },
  {
   "cell_type": "markdown",
   "metadata": {
    "id": "6QGRjEOKLWQ5"
   },
   "source": [
    "19. What is the price of each item? \n",
    "> print a data frame with only two columns item_name and item_price"
   ]
  },
  {
   "cell_type": "code",
   "execution_count": 131,
   "metadata": {
    "id": "MY8EYx4VLWQ5",
    "jupyter": {
     "outputs_hidden": false
    }
   },
   "outputs": [
    {
     "name": "stderr",
     "output_type": "stream",
     "text": [
      "<ipython-input-131-6f164ff48038>:2: SettingWithCopyWarning: \n",
      "A value is trying to be set on a copy of a slice from a DataFrame.\n",
      "Try using .loc[row_indexer,col_indexer] = value instead\n",
      "\n",
      "See the caveats in the documentation: https://pandas.pydata.org/pandas-docs/stable/user_guide/indexing.html#returning-a-view-versus-a-copy\n",
      "  df_filtered['item_name'] = df_filtered['item_name'].str.replace('-','')\n"
     ]
    }
   ],
   "source": [
    "df_filtered = chipo[['item_name', 'item_price']]\n",
    "df_filtered['item_name'] = df_filtered['item_name'].str.replace('-','')\n",
    "df_pricelist = df_filtered.groupby('item_name').mean()\n"
   ]
  },
  {
   "cell_type": "markdown",
   "metadata": {
    "id": "XPtZ28GmLWQ5"
   },
   "source": [
    "20. Sort by the name of the item"
   ]
  },
  {
   "cell_type": "code",
   "execution_count": 138,
   "metadata": {
    "id": "9n9Y_FwQLWQ5",
    "jupyter": {
     "outputs_hidden": false
    }
   },
   "outputs": [
    {
     "data": {
      "text/html": [
       "<div>\n",
       "<style scoped>\n",
       "    .dataframe tbody tr th:only-of-type {\n",
       "        vertical-align: middle;\n",
       "    }\n",
       "\n",
       "    .dataframe tbody tr th {\n",
       "        vertical-align: top;\n",
       "    }\n",
       "\n",
       "    .dataframe thead th {\n",
       "        text-align: right;\n",
       "    }\n",
       "</style>\n",
       "<table border=\"1\" class=\"dataframe\">\n",
       "  <thead>\n",
       "    <tr style=\"text-align: right;\">\n",
       "      <th></th>\n",
       "      <th>item_price</th>\n",
       "    </tr>\n",
       "    <tr>\n",
       "      <th>item_name</th>\n",
       "      <th></th>\n",
       "    </tr>\n",
       "  </thead>\n",
       "  <tbody>\n",
       "    <tr>\n",
       "      <th>6 Pack Soft Drink</th>\n",
       "      <td>6.610185</td>\n",
       "    </tr>\n",
       "    <tr>\n",
       "      <th>Barbacoa Bowl</th>\n",
       "      <td>10.187273</td>\n",
       "    </tr>\n",
       "    <tr>\n",
       "      <th>Barbacoa Burrito</th>\n",
       "      <td>9.832418</td>\n",
       "    </tr>\n",
       "    <tr>\n",
       "      <th>Barbacoa Crispy Tacos</th>\n",
       "      <td>10.928182</td>\n",
       "    </tr>\n",
       "    <tr>\n",
       "      <th>Barbacoa Salad Bowl</th>\n",
       "      <td>10.640000</td>\n",
       "    </tr>\n",
       "    <tr>\n",
       "      <th>Barbacoa Soft Tacos</th>\n",
       "      <td>10.018400</td>\n",
       "    </tr>\n",
       "    <tr>\n",
       "      <th>Bottled Water</th>\n",
       "      <td>1.867654</td>\n",
       "    </tr>\n",
       "    <tr>\n",
       "      <th>Bowl</th>\n",
       "      <td>14.800000</td>\n",
       "    </tr>\n",
       "    <tr>\n",
       "      <th>Burrito</th>\n",
       "      <td>7.400000</td>\n",
       "    </tr>\n",
       "    <tr>\n",
       "      <th>Canned Soda</th>\n",
       "      <td>1.320577</td>\n",
       "    </tr>\n",
       "    <tr>\n",
       "      <th>Canned Soft Drink</th>\n",
       "      <td>1.457641</td>\n",
       "    </tr>\n",
       "    <tr>\n",
       "      <th>Carnitas Bowl</th>\n",
       "      <td>10.833971</td>\n",
       "    </tr>\n",
       "    <tr>\n",
       "      <th>Carnitas Burrito</th>\n",
       "      <td>10.132712</td>\n",
       "    </tr>\n",
       "    <tr>\n",
       "      <th>Carnitas Crispy Tacos</th>\n",
       "      <td>11.137143</td>\n",
       "    </tr>\n",
       "    <tr>\n",
       "      <th>Carnitas Salad</th>\n",
       "      <td>8.990000</td>\n",
       "    </tr>\n",
       "    <tr>\n",
       "      <th>Carnitas Salad Bowl</th>\n",
       "      <td>11.056667</td>\n",
       "    </tr>\n",
       "    <tr>\n",
       "      <th>Carnitas Soft Tacos</th>\n",
       "      <td>9.398500</td>\n",
       "    </tr>\n",
       "    <tr>\n",
       "      <th>Chicken Bowl</th>\n",
       "      <td>10.113953</td>\n",
       "    </tr>\n",
       "    <tr>\n",
       "      <th>Chicken Burrito</th>\n",
       "      <td>10.082857</td>\n",
       "    </tr>\n",
       "    <tr>\n",
       "      <th>Chicken Crispy Tacos</th>\n",
       "      <td>10.045319</td>\n",
       "    </tr>\n",
       "    <tr>\n",
       "      <th>Chicken Salad</th>\n",
       "      <td>9.010000</td>\n",
       "    </tr>\n",
       "    <tr>\n",
       "      <th>Chicken Salad Bowl</th>\n",
       "      <td>11.170455</td>\n",
       "    </tr>\n",
       "    <tr>\n",
       "      <th>Chicken Soft Tacos</th>\n",
       "      <td>9.635565</td>\n",
       "    </tr>\n",
       "    <tr>\n",
       "      <th>Chips</th>\n",
       "      <td>2.342844</td>\n",
       "    </tr>\n",
       "    <tr>\n",
       "      <th>Chips and Fresh Tomato Salsa</th>\n",
       "      <td>3.285091</td>\n",
       "    </tr>\n",
       "    <tr>\n",
       "      <th>Chips and Guacamole</th>\n",
       "      <td>4.595073</td>\n",
       "    </tr>\n",
       "    <tr>\n",
       "      <th>Chips and Mild Fresh Tomato Salsa</th>\n",
       "      <td>3.000000</td>\n",
       "    </tr>\n",
       "    <tr>\n",
       "      <th>Chips and Roasted Chili Corn Salsa</th>\n",
       "      <td>3.084091</td>\n",
       "    </tr>\n",
       "    <tr>\n",
       "      <th>Chips and Roasted ChiliCorn Salsa</th>\n",
       "      <td>2.390000</td>\n",
       "    </tr>\n",
       "    <tr>\n",
       "      <th>Chips and Tomatillo Green Chili Salsa</th>\n",
       "      <td>3.087209</td>\n",
       "    </tr>\n",
       "    <tr>\n",
       "      <th>Chips and Tomatillo Red Chili Salsa</th>\n",
       "      <td>3.072917</td>\n",
       "    </tr>\n",
       "    <tr>\n",
       "      <th>Chips and TomatilloGreen Chili Salsa</th>\n",
       "      <td>2.544194</td>\n",
       "    </tr>\n",
       "    <tr>\n",
       "      <th>Chips and TomatilloRed Chili Salsa</th>\n",
       "      <td>2.987500</td>\n",
       "    </tr>\n",
       "    <tr>\n",
       "      <th>Crispy Tacos</th>\n",
       "      <td>7.400000</td>\n",
       "    </tr>\n",
       "    <tr>\n",
       "      <th>Izze</th>\n",
       "      <td>3.390000</td>\n",
       "    </tr>\n",
       "    <tr>\n",
       "      <th>Nantucket Nectar</th>\n",
       "      <td>3.641111</td>\n",
       "    </tr>\n",
       "    <tr>\n",
       "      <th>Salad</th>\n",
       "      <td>7.400000</td>\n",
       "    </tr>\n",
       "    <tr>\n",
       "      <th>Side of Chips</th>\n",
       "      <td>1.840594</td>\n",
       "    </tr>\n",
       "    <tr>\n",
       "      <th>Steak Bowl</th>\n",
       "      <td>10.711801</td>\n",
       "    </tr>\n",
       "    <tr>\n",
       "      <th>Steak Burrito</th>\n",
       "      <td>10.465842</td>\n",
       "    </tr>\n",
       "    <tr>\n",
       "      <th>Steak Crispy Tacos</th>\n",
       "      <td>10.209714</td>\n",
       "    </tr>\n",
       "    <tr>\n",
       "      <th>Steak Salad</th>\n",
       "      <td>8.915000</td>\n",
       "    </tr>\n",
       "    <tr>\n",
       "      <th>Steak Salad Bowl</th>\n",
       "      <td>11.847931</td>\n",
       "    </tr>\n",
       "    <tr>\n",
       "      <th>Steak Soft Tacos</th>\n",
       "      <td>9.746364</td>\n",
       "    </tr>\n",
       "    <tr>\n",
       "      <th>Veggie Bowl</th>\n",
       "      <td>10.211647</td>\n",
       "    </tr>\n",
       "    <tr>\n",
       "      <th>Veggie Burrito</th>\n",
       "      <td>9.839684</td>\n",
       "    </tr>\n",
       "    <tr>\n",
       "      <th>Veggie Crispy Tacos</th>\n",
       "      <td>8.490000</td>\n",
       "    </tr>\n",
       "    <tr>\n",
       "      <th>Veggie Salad</th>\n",
       "      <td>8.490000</td>\n",
       "    </tr>\n",
       "    <tr>\n",
       "      <th>Veggie Salad Bowl</th>\n",
       "      <td>10.138889</td>\n",
       "    </tr>\n",
       "    <tr>\n",
       "      <th>Veggie Soft Tacos</th>\n",
       "      <td>10.565714</td>\n",
       "    </tr>\n",
       "  </tbody>\n",
       "</table>\n",
       "</div>"
      ],
      "text/plain": [
       "                                       item_price\n",
       "item_name                                        \n",
       "6 Pack Soft Drink                        6.610185\n",
       "Barbacoa Bowl                           10.187273\n",
       "Barbacoa Burrito                         9.832418\n",
       "Barbacoa Crispy Tacos                   10.928182\n",
       "Barbacoa Salad Bowl                     10.640000\n",
       "Barbacoa Soft Tacos                     10.018400\n",
       "Bottled Water                            1.867654\n",
       "Bowl                                    14.800000\n",
       "Burrito                                  7.400000\n",
       "Canned Soda                              1.320577\n",
       "Canned Soft Drink                        1.457641\n",
       "Carnitas Bowl                           10.833971\n",
       "Carnitas Burrito                        10.132712\n",
       "Carnitas Crispy Tacos                   11.137143\n",
       "Carnitas Salad                           8.990000\n",
       "Carnitas Salad Bowl                     11.056667\n",
       "Carnitas Soft Tacos                      9.398500\n",
       "Chicken Bowl                            10.113953\n",
       "Chicken Burrito                         10.082857\n",
       "Chicken Crispy Tacos                    10.045319\n",
       "Chicken Salad                            9.010000\n",
       "Chicken Salad Bowl                      11.170455\n",
       "Chicken Soft Tacos                       9.635565\n",
       "Chips                                    2.342844\n",
       "Chips and Fresh Tomato Salsa             3.285091\n",
       "Chips and Guacamole                      4.595073\n",
       "Chips and Mild Fresh Tomato Salsa        3.000000\n",
       "Chips and Roasted Chili Corn Salsa       3.084091\n",
       "Chips and Roasted ChiliCorn Salsa        2.390000\n",
       "Chips and Tomatillo Green Chili Salsa    3.087209\n",
       "Chips and Tomatillo Red Chili Salsa      3.072917\n",
       "Chips and TomatilloGreen Chili Salsa     2.544194\n",
       "Chips and TomatilloRed Chili Salsa       2.987500\n",
       "Crispy Tacos                             7.400000\n",
       "Izze                                     3.390000\n",
       "Nantucket Nectar                         3.641111\n",
       "Salad                                    7.400000\n",
       "Side of Chips                            1.840594\n",
       "Steak Bowl                              10.711801\n",
       "Steak Burrito                           10.465842\n",
       "Steak Crispy Tacos                      10.209714\n",
       "Steak Salad                              8.915000\n",
       "Steak Salad Bowl                        11.847931\n",
       "Steak Soft Tacos                         9.746364\n",
       "Veggie Bowl                             10.211647\n",
       "Veggie Burrito                           9.839684\n",
       "Veggie Crispy Tacos                      8.490000\n",
       "Veggie Salad                             8.490000\n",
       "Veggie Salad Bowl                       10.138889\n",
       "Veggie Soft Tacos                       10.565714"
      ]
     },
     "execution_count": 138,
     "metadata": {},
     "output_type": "execute_result"
    }
   ],
   "source": [
    "df_pricelist.sort_values(['item_name'])"
   ]
  },
  {
   "cell_type": "markdown",
   "metadata": {
    "id": "awtsgNgCLWQ5"
   },
   "source": [
    "21. What was the quantity of the most expensive item ordered?"
   ]
  },
  {
   "cell_type": "code",
   "execution_count": 140,
   "metadata": {
    "id": "OeknCsF4LWQ5",
    "jupyter": {
     "outputs_hidden": false
    }
   },
   "outputs": [
    {
     "data": {
      "text/plain": [
       "14.8"
      ]
     },
     "execution_count": 140,
     "metadata": {},
     "output_type": "execute_result"
    }
   ],
   "source": [
    "df_pricelist['item_price'].max()"
   ]
  },
  {
   "cell_type": "markdown",
   "metadata": {
    "id": "HVopqMw6LWQ6"
   },
   "source": [
    "22. How many times was a Veggie Salad Bowl ordered?"
   ]
  },
  {
   "cell_type": "code",
   "execution_count": 149,
   "metadata": {
    "id": "G5Bc15RpLWQ6",
    "jupyter": {
     "outputs_hidden": false
    }
   },
   "outputs": [
    {
     "data": {
      "text/plain": [
       "<bound method DataFrame.value_counts of       order_id  quantity          item_name  \\\n",
       "186         83         1  Veggie Salad Bowl   \n",
       "295        128         1  Veggie Salad Bowl   \n",
       "455        195         1  Veggie Salad Bowl   \n",
       "496        207         1  Veggie Salad Bowl   \n",
       "960        394         1  Veggie Salad Bowl   \n",
       "1316       536         1  Veggie Salad Bowl   \n",
       "1884       760         1  Veggie Salad Bowl   \n",
       "2156       869         1  Veggie Salad Bowl   \n",
       "2223       896         1  Veggie Salad Bowl   \n",
       "2269       913         1  Veggie Salad Bowl   \n",
       "2683      1066         1  Veggie Salad Bowl   \n",
       "3223      1289         1  Veggie Salad Bowl   \n",
       "3293      1321         1  Veggie Salad Bowl   \n",
       "4109      1646         1  Veggie Salad Bowl   \n",
       "4201      1677         1  Veggie Salad Bowl   \n",
       "4261      1700         1  Veggie Salad Bowl   \n",
       "4541      1805         1  Veggie Salad Bowl   \n",
       "4573      1818         1  Veggie Salad Bowl   \n",
       "\n",
       "                                     choice_description  item_price  \n",
       "186   [Fresh Tomato Salsa, [Fajita Vegetables, Rice,...       11.25  \n",
       "295   [Fresh Tomato Salsa, [Fajita Vegetables, Lettu...       11.25  \n",
       "455   [Fresh Tomato Salsa, [Fajita Vegetables, Rice,...       11.25  \n",
       "496   [Fresh Tomato Salsa, [Rice, Lettuce, Guacamole...       11.25  \n",
       "960   [Fresh Tomato Salsa, [Fajita Vegetables, Lettu...        8.75  \n",
       "1316  [Fresh Tomato Salsa, [Fajita Vegetables, Rice,...        8.75  \n",
       "1884  [Fresh Tomato Salsa, [Fajita Vegetables, Rice,...       11.25  \n",
       "2156  [Tomatillo Red Chili Salsa, [Fajita Vegetables...       11.25  \n",
       "2223      [Roasted Chili Corn Salsa, Fajita Vegetables]        8.75  \n",
       "2269  [Fresh Tomato Salsa, [Fajita Vegetables, Rice,...        8.75  \n",
       "2683  [Roasted Chili Corn Salsa, [Fajita Vegetables,...        8.75  \n",
       "3223  [Tomatillo Red Chili Salsa, [Fajita Vegetables...       11.25  \n",
       "3293  [Fresh Tomato Salsa, [Rice, Black Beans, Chees...        8.75  \n",
       "4109  [Tomatillo Red Chili Salsa, [Fajita Vegetables...       11.25  \n",
       "4201  [Fresh Tomato Salsa, [Fajita Vegetables, Black...       11.25  \n",
       "4261  [Fresh Tomato Salsa, [Fajita Vegetables, Rice,...       11.25  \n",
       "4541  [Tomatillo Green Chili Salsa, [Fajita Vegetabl...        8.75  \n",
       "4573  [Fresh Tomato Salsa, [Fajita Vegetables, Pinto...        8.75  >"
      ]
     },
     "execution_count": 149,
     "metadata": {},
     "output_type": "execute_result"
    }
   ],
   "source": [
    "chipo[chipo['item_name'] == 'Veggie Salad Bowl'].value_counts"
   ]
  },
  {
   "cell_type": "markdown",
   "metadata": {
    "id": "W3nYokIkLWQ6"
   },
   "source": [
    "23. How many times did someone order more than one Canned Soda?"
   ]
  },
  {
   "cell_type": "code",
   "execution_count": 158,
   "metadata": {
    "id": "fRafdebdLWQ6",
    "jupyter": {
     "outputs_hidden": false
    }
   },
   "outputs": [
    {
     "data": {
      "text/html": [
       "<div>\n",
       "<style scoped>\n",
       "    .dataframe tbody tr th:only-of-type {\n",
       "        vertical-align: middle;\n",
       "    }\n",
       "\n",
       "    .dataframe tbody tr th {\n",
       "        vertical-align: top;\n",
       "    }\n",
       "\n",
       "    .dataframe thead th {\n",
       "        text-align: right;\n",
       "    }\n",
       "</style>\n",
       "<table border=\"1\" class=\"dataframe\">\n",
       "  <thead>\n",
       "    <tr style=\"text-align: right;\">\n",
       "      <th></th>\n",
       "      <th>order_id</th>\n",
       "      <th>quantity</th>\n",
       "      <th>item_name</th>\n",
       "      <th>choice_description</th>\n",
       "      <th>item_price</th>\n",
       "    </tr>\n",
       "  </thead>\n",
       "  <tbody>\n",
       "    <tr>\n",
       "      <th>18</th>\n",
       "      <td>9</td>\n",
       "      <td>2</td>\n",
       "      <td>Canned Soda</td>\n",
       "      <td>[Sprite]</td>\n",
       "      <td>2.18</td>\n",
       "    </tr>\n",
       "    <tr>\n",
       "      <th>51</th>\n",
       "      <td>23</td>\n",
       "      <td>2</td>\n",
       "      <td>Canned Soda</td>\n",
       "      <td>[Mountain Dew]</td>\n",
       "      <td>2.18</td>\n",
       "    </tr>\n",
       "    <tr>\n",
       "      <th>162</th>\n",
       "      <td>73</td>\n",
       "      <td>2</td>\n",
       "      <td>Canned Soda</td>\n",
       "      <td>[Diet Coke]</td>\n",
       "      <td>2.18</td>\n",
       "    </tr>\n",
       "    <tr>\n",
       "      <th>171</th>\n",
       "      <td>76</td>\n",
       "      <td>2</td>\n",
       "      <td>Canned Soda</td>\n",
       "      <td>[Diet Dr. Pepper]</td>\n",
       "      <td>2.18</td>\n",
       "    </tr>\n",
       "    <tr>\n",
       "      <th>350</th>\n",
       "      <td>150</td>\n",
       "      <td>2</td>\n",
       "      <td>Canned Soda</td>\n",
       "      <td>[Diet Coke]</td>\n",
       "      <td>2.18</td>\n",
       "    </tr>\n",
       "    <tr>\n",
       "      <th>352</th>\n",
       "      <td>151</td>\n",
       "      <td>2</td>\n",
       "      <td>Canned Soda</td>\n",
       "      <td>[Coca Cola]</td>\n",
       "      <td>2.18</td>\n",
       "    </tr>\n",
       "    <tr>\n",
       "      <th>698</th>\n",
       "      <td>287</td>\n",
       "      <td>2</td>\n",
       "      <td>Canned Soda</td>\n",
       "      <td>[Coca Cola]</td>\n",
       "      <td>2.18</td>\n",
       "    </tr>\n",
       "    <tr>\n",
       "      <th>700</th>\n",
       "      <td>288</td>\n",
       "      <td>2</td>\n",
       "      <td>Canned Soda</td>\n",
       "      <td>[Coca Cola]</td>\n",
       "      <td>2.18</td>\n",
       "    </tr>\n",
       "    <tr>\n",
       "      <th>909</th>\n",
       "      <td>376</td>\n",
       "      <td>2</td>\n",
       "      <td>Canned Soda</td>\n",
       "      <td>[Mountain Dew]</td>\n",
       "      <td>2.18</td>\n",
       "    </tr>\n",
       "    <tr>\n",
       "      <th>1091</th>\n",
       "      <td>450</td>\n",
       "      <td>2</td>\n",
       "      <td>Canned Soda</td>\n",
       "      <td>[Dr. Pepper]</td>\n",
       "      <td>2.18</td>\n",
       "    </tr>\n",
       "    <tr>\n",
       "      <th>1092</th>\n",
       "      <td>450</td>\n",
       "      <td>2</td>\n",
       "      <td>Canned Soda</td>\n",
       "      <td>[Coca Cola]</td>\n",
       "      <td>2.18</td>\n",
       "    </tr>\n",
       "    <tr>\n",
       "      <th>1944</th>\n",
       "      <td>787</td>\n",
       "      <td>2</td>\n",
       "      <td>Canned Soda</td>\n",
       "      <td>[Dr. Pepper]</td>\n",
       "      <td>2.18</td>\n",
       "    </tr>\n",
       "    <tr>\n",
       "      <th>2135</th>\n",
       "      <td>859</td>\n",
       "      <td>2</td>\n",
       "      <td>Canned Soda</td>\n",
       "      <td>[Diet Coke]</td>\n",
       "      <td>2.18</td>\n",
       "    </tr>\n",
       "    <tr>\n",
       "      <th>2235</th>\n",
       "      <td>901</td>\n",
       "      <td>4</td>\n",
       "      <td>Canned Soda</td>\n",
       "      <td>[Sprite]</td>\n",
       "      <td>4.36</td>\n",
       "    </tr>\n",
       "    <tr>\n",
       "      <th>2905</th>\n",
       "      <td>1156</td>\n",
       "      <td>2</td>\n",
       "      <td>Canned Soda</td>\n",
       "      <td>[Coca Cola]</td>\n",
       "      <td>2.18</td>\n",
       "    </tr>\n",
       "    <tr>\n",
       "      <th>2906</th>\n",
       "      <td>1156</td>\n",
       "      <td>2</td>\n",
       "      <td>Canned Soda</td>\n",
       "      <td>[Sprite]</td>\n",
       "      <td>2.18</td>\n",
       "    </tr>\n",
       "    <tr>\n",
       "      <th>3152</th>\n",
       "      <td>1258</td>\n",
       "      <td>2</td>\n",
       "      <td>Canned Soda</td>\n",
       "      <td>[Dr. Pepper]</td>\n",
       "      <td>2.18</td>\n",
       "    </tr>\n",
       "    <tr>\n",
       "      <th>3364</th>\n",
       "      <td>1349</td>\n",
       "      <td>2</td>\n",
       "      <td>Canned Soda</td>\n",
       "      <td>[Coca Cola]</td>\n",
       "      <td>2.18</td>\n",
       "    </tr>\n",
       "    <tr>\n",
       "      <th>3592</th>\n",
       "      <td>1440</td>\n",
       "      <td>2</td>\n",
       "      <td>Canned Soda</td>\n",
       "      <td>[Diet Coke]</td>\n",
       "      <td>2.18</td>\n",
       "    </tr>\n",
       "    <tr>\n",
       "      <th>3866</th>\n",
       "      <td>1550</td>\n",
       "      <td>2</td>\n",
       "      <td>Canned Soda</td>\n",
       "      <td>[Mountain Dew]</td>\n",
       "      <td>2.18</td>\n",
       "    </tr>\n",
       "  </tbody>\n",
       "</table>\n",
       "</div>"
      ],
      "text/plain": [
       "      order_id  quantity    item_name choice_description  item_price\n",
       "18           9         2  Canned Soda           [Sprite]        2.18\n",
       "51          23         2  Canned Soda     [Mountain Dew]        2.18\n",
       "162         73         2  Canned Soda        [Diet Coke]        2.18\n",
       "171         76         2  Canned Soda  [Diet Dr. Pepper]        2.18\n",
       "350        150         2  Canned Soda        [Diet Coke]        2.18\n",
       "352        151         2  Canned Soda        [Coca Cola]        2.18\n",
       "698        287         2  Canned Soda        [Coca Cola]        2.18\n",
       "700        288         2  Canned Soda        [Coca Cola]        2.18\n",
       "909        376         2  Canned Soda     [Mountain Dew]        2.18\n",
       "1091       450         2  Canned Soda       [Dr. Pepper]        2.18\n",
       "1092       450         2  Canned Soda        [Coca Cola]        2.18\n",
       "1944       787         2  Canned Soda       [Dr. Pepper]        2.18\n",
       "2135       859         2  Canned Soda        [Diet Coke]        2.18\n",
       "2235       901         4  Canned Soda           [Sprite]        4.36\n",
       "2905      1156         2  Canned Soda        [Coca Cola]        2.18\n",
       "2906      1156         2  Canned Soda           [Sprite]        2.18\n",
       "3152      1258         2  Canned Soda       [Dr. Pepper]        2.18\n",
       "3364      1349         2  Canned Soda        [Coca Cola]        2.18\n",
       "3592      1440         2  Canned Soda        [Diet Coke]        2.18\n",
       "3866      1550         2  Canned Soda     [Mountain Dew]        2.18"
      ]
     },
     "execution_count": 158,
     "metadata": {},
     "output_type": "execute_result"
    }
   ],
   "source": [
    "chipo[(chipo['item_name']=='Canned Soda') & (chipo['quantity'] > 1)]"
   ]
  },
  {
   "cell_type": "markdown",
   "metadata": {
    "id": "89vyTtw1LWQ6"
   },
   "source": [
    "# GroupBy"
   ]
  },
  {
   "cell_type": "markdown",
   "metadata": {
    "id": "CbMBY0MaLWQ6"
   },
   "source": [
    "Referencias:\n",
    "* [Describe](https://pandas.pydata.org/pandas-docs/stable/reference/api/pandas.DataFrame.describe.html)\n",
    "\n",
    "GroupBy can be summarized as Split-Apply-Combine. Check out this [Diagram](http://i.imgur.com/yjNkiwL.png)  "
   ]
  },
  {
   "cell_type": "markdown",
   "metadata": {
    "id": "S8fUmNReLWQ6"
   },
   "source": [
    "24. Import the dataset from this [address](https://raw.githubusercontent.com/justmarkham/DAT8/master/data/drinks.csv). "
   ]
  },
  {
   "cell_type": "code",
   "execution_count": 160,
   "metadata": {
    "id": "JWuQF3ooLWQ6"
   },
   "outputs": [],
   "source": [
    "url = 'https://raw.githubusercontent.com/justmarkham/DAT8/master/data/drinks.csv'"
   ]
  },
  {
   "cell_type": "markdown",
   "metadata": {
    "id": "vlWc3HFoLWQ6"
   },
   "source": [
    "25. Assign it to a variable called drinks."
   ]
  },
  {
   "cell_type": "code",
   "execution_count": 161,
   "metadata": {
    "id": "Q_X659CnLWQ7"
   },
   "outputs": [],
   "source": [
    "drinks = pd.read_csv(url, sep=',')"
   ]
  },
  {
   "cell_type": "markdown",
   "metadata": {
    "id": "tXGKzVXdLWQ7"
   },
   "source": [
    "26. Which continent drinks more beer on average?"
   ]
  },
  {
   "cell_type": "code",
   "execution_count": 212,
   "metadata": {
    "id": "HR4J7RyPLWQ7"
   },
   "outputs": [
    {
     "data": {
      "text/plain": [
       "'EU'"
      ]
     },
     "execution_count": 212,
     "metadata": {},
     "output_type": "execute_result"
    }
   ],
   "source": [
    "drinks.groupby('continent').mean()['beer_servings'].idxmax()"
   ]
  },
  {
   "cell_type": "markdown",
   "metadata": {
    "id": "p6VJItrpLWQ7"
   },
   "source": [
    "27. Print the mean alcohol consumption per continent for every column"
   ]
  },
  {
   "cell_type": "code",
   "execution_count": 175,
   "metadata": {
    "id": "ppKNwWy8LWQ7"
   },
   "outputs": [
    {
     "data": {
      "text/html": [
       "<div>\n",
       "<style scoped>\n",
       "    .dataframe tbody tr th:only-of-type {\n",
       "        vertical-align: middle;\n",
       "    }\n",
       "\n",
       "    .dataframe tbody tr th {\n",
       "        vertical-align: top;\n",
       "    }\n",
       "\n",
       "    .dataframe thead th {\n",
       "        text-align: right;\n",
       "    }\n",
       "</style>\n",
       "<table border=\"1\" class=\"dataframe\">\n",
       "  <thead>\n",
       "    <tr style=\"text-align: right;\">\n",
       "      <th></th>\n",
       "      <th>beer_servings</th>\n",
       "      <th>spirit_servings</th>\n",
       "      <th>wine_servings</th>\n",
       "      <th>total_litres_of_pure_alcohol</th>\n",
       "    </tr>\n",
       "    <tr>\n",
       "      <th>continent</th>\n",
       "      <th></th>\n",
       "      <th></th>\n",
       "      <th></th>\n",
       "      <th></th>\n",
       "    </tr>\n",
       "  </thead>\n",
       "  <tbody>\n",
       "    <tr>\n",
       "      <th>AF</th>\n",
       "      <td>61.471698</td>\n",
       "      <td>16.339623</td>\n",
       "      <td>16.264151</td>\n",
       "      <td>3.007547</td>\n",
       "    </tr>\n",
       "    <tr>\n",
       "      <th>AS</th>\n",
       "      <td>37.045455</td>\n",
       "      <td>60.840909</td>\n",
       "      <td>9.068182</td>\n",
       "      <td>2.170455</td>\n",
       "    </tr>\n",
       "    <tr>\n",
       "      <th>EU</th>\n",
       "      <td>193.777778</td>\n",
       "      <td>132.555556</td>\n",
       "      <td>142.222222</td>\n",
       "      <td>8.617778</td>\n",
       "    </tr>\n",
       "    <tr>\n",
       "      <th>OC</th>\n",
       "      <td>89.687500</td>\n",
       "      <td>58.437500</td>\n",
       "      <td>35.625000</td>\n",
       "      <td>3.381250</td>\n",
       "    </tr>\n",
       "    <tr>\n",
       "      <th>SA</th>\n",
       "      <td>175.083333</td>\n",
       "      <td>114.750000</td>\n",
       "      <td>62.416667</td>\n",
       "      <td>6.308333</td>\n",
       "    </tr>\n",
       "  </tbody>\n",
       "</table>\n",
       "</div>"
      ],
      "text/plain": [
       "           beer_servings  spirit_servings  wine_servings  \\\n",
       "continent                                                  \n",
       "AF             61.471698        16.339623      16.264151   \n",
       "AS             37.045455        60.840909       9.068182   \n",
       "EU            193.777778       132.555556     142.222222   \n",
       "OC             89.687500        58.437500      35.625000   \n",
       "SA            175.083333       114.750000      62.416667   \n",
       "\n",
       "           total_litres_of_pure_alcohol  \n",
       "continent                                \n",
       "AF                             3.007547  \n",
       "AS                             2.170455  \n",
       "EU                             8.617778  \n",
       "OC                             3.381250  \n",
       "SA                             6.308333  "
      ]
     },
     "execution_count": 175,
     "metadata": {},
     "output_type": "execute_result"
    }
   ],
   "source": [
    "drinks.groupby('continent').mean()"
   ]
  },
  {
   "cell_type": "markdown",
   "metadata": {
    "id": "N74QD1cxLWQ7"
   },
   "source": [
    "28. Print the median alcohol consumption per continent for every column"
   ]
  },
  {
   "cell_type": "code",
   "execution_count": 199,
   "metadata": {
    "id": "6pE75UkmLWQ7"
   },
   "outputs": [
    {
     "data": {
      "text/html": [
       "<div>\n",
       "<style scoped>\n",
       "    .dataframe tbody tr th:only-of-type {\n",
       "        vertical-align: middle;\n",
       "    }\n",
       "\n",
       "    .dataframe tbody tr th {\n",
       "        vertical-align: top;\n",
       "    }\n",
       "\n",
       "    .dataframe thead th {\n",
       "        text-align: right;\n",
       "    }\n",
       "</style>\n",
       "<table border=\"1\" class=\"dataframe\">\n",
       "  <thead>\n",
       "    <tr style=\"text-align: right;\">\n",
       "      <th></th>\n",
       "      <th>beer_servings</th>\n",
       "      <th>spirit_servings</th>\n",
       "      <th>wine_servings</th>\n",
       "      <th>total_litres_of_pure_alcohol</th>\n",
       "    </tr>\n",
       "    <tr>\n",
       "      <th>continent</th>\n",
       "      <th></th>\n",
       "      <th></th>\n",
       "      <th></th>\n",
       "      <th></th>\n",
       "    </tr>\n",
       "  </thead>\n",
       "  <tbody>\n",
       "    <tr>\n",
       "      <th>AF</th>\n",
       "      <td>32.0</td>\n",
       "      <td>3.0</td>\n",
       "      <td>2.0</td>\n",
       "      <td>2.30</td>\n",
       "    </tr>\n",
       "    <tr>\n",
       "      <th>AS</th>\n",
       "      <td>17.5</td>\n",
       "      <td>16.0</td>\n",
       "      <td>1.0</td>\n",
       "      <td>1.20</td>\n",
       "    </tr>\n",
       "    <tr>\n",
       "      <th>EU</th>\n",
       "      <td>219.0</td>\n",
       "      <td>122.0</td>\n",
       "      <td>128.0</td>\n",
       "      <td>10.00</td>\n",
       "    </tr>\n",
       "    <tr>\n",
       "      <th>OC</th>\n",
       "      <td>52.5</td>\n",
       "      <td>37.0</td>\n",
       "      <td>8.5</td>\n",
       "      <td>1.75</td>\n",
       "    </tr>\n",
       "    <tr>\n",
       "      <th>SA</th>\n",
       "      <td>162.5</td>\n",
       "      <td>108.5</td>\n",
       "      <td>12.0</td>\n",
       "      <td>6.85</td>\n",
       "    </tr>\n",
       "  </tbody>\n",
       "</table>\n",
       "</div>"
      ],
      "text/plain": [
       "           beer_servings  spirit_servings  wine_servings  \\\n",
       "continent                                                  \n",
       "AF                  32.0              3.0            2.0   \n",
       "AS                  17.5             16.0            1.0   \n",
       "EU                 219.0            122.0          128.0   \n",
       "OC                  52.5             37.0            8.5   \n",
       "SA                 162.5            108.5           12.0   \n",
       "\n",
       "           total_litres_of_pure_alcohol  \n",
       "continent                                \n",
       "AF                                 2.30  \n",
       "AS                                 1.20  \n",
       "EU                                10.00  \n",
       "OC                                 1.75  \n",
       "SA                                 6.85  "
      ]
     },
     "execution_count": 199,
     "metadata": {},
     "output_type": "execute_result"
    }
   ],
   "source": [
    "drinks.groupby('continent').median()"
   ]
  },
  {
   "cell_type": "markdown",
   "metadata": {
    "id": "-BSFnE3hLWQ7"
   },
   "source": [
    "29. Print the mean, min and max values for spirit consumption."
   ]
  },
  {
   "cell_type": "code",
   "execution_count": 191,
   "metadata": {
    "id": "uBp31uKnLWQ8"
   },
   "outputs": [
    {
     "name": "stdout",
     "output_type": "stream",
     "text": [
      "Mean 80.99481865284974, Min 0, Max 438\n"
     ]
    }
   ],
   "source": [
    "print(\"Mean {}, Min {}, Max {}\".format(drinks['spirit_servings'].mean(),\n",
    "                                       drinks['spirit_servings'].min(), \n",
    "                                       drinks['spirit_servings'].max()))\n",
    "\n"
   ]
  },
  {
   "cell_type": "markdown",
   "metadata": {
    "id": "BZMjBh-7LWQ8"
   },
   "source": [
    "# Apply: Student Alcohol Consumption\n",
    "Referencias:\n",
    "* [apply](https://pandas.pydata.org/pandas-docs/stable/reference/api/pandas.core.groupby.GroupBy.apply.html?highlight=apply#pandas.core.groupby.GroupBy.apply)"
   ]
  },
  {
   "cell_type": "markdown",
   "metadata": {
    "id": "umxEWeSzLWQ8"
   },
   "source": [
    "30. Import the dataset from this [address](https://raw.githubusercontent.com/guipsamora/pandas_exercises/master/04_Apply/Students_Alcohol_Consumption/student-mat.csv)."
   ]
  },
  {
   "cell_type": "code",
   "execution_count": null,
   "metadata": {
    "id": "M6MrL8HcLWQ8"
   },
   "outputs": [],
   "source": []
  },
  {
   "cell_type": "markdown",
   "metadata": {
    "id": "dyXM1qPdLWQ8"
   },
   "source": [
    "31. Assign it to a variable called df."
   ]
  },
  {
   "cell_type": "code",
   "execution_count": null,
   "metadata": {
    "id": "fFZ29DniLWQ8",
    "jupyter": {
     "outputs_hidden": false
    }
   },
   "outputs": [],
   "source": []
  },
  {
   "cell_type": "markdown",
   "metadata": {
    "id": "p6CvdotcLWQ8"
   },
   "source": [
    "32. For the purpose of this exercise slice the dataframe from 'school' until the 'guardian' column"
   ]
  },
  {
   "cell_type": "code",
   "execution_count": null,
   "metadata": {
    "id": "xl_mBkCvLWQ9",
    "jupyter": {
     "outputs_hidden": false
    }
   },
   "outputs": [],
   "source": []
  },
  {
   "cell_type": "markdown",
   "metadata": {
    "id": "YUlGLBRXLWQ9"
   },
   "source": [
    "33. Create a function that will capitalize strings."
   ]
  },
  {
   "cell_type": "code",
   "execution_count": null,
   "metadata": {
    "id": "DBzZrB2tLWQ9",
    "jupyter": {
     "outputs_hidden": false
    }
   },
   "outputs": [],
   "source": []
  },
  {
   "cell_type": "markdown",
   "metadata": {
    "id": "7QNrNaHiLWQ9"
   },
   "source": [
    "34. Capitalize both Mjob and Fjob"
   ]
  },
  {
   "cell_type": "code",
   "execution_count": null,
   "metadata": {
    "id": "F0GWhAy8LWQ9",
    "jupyter": {
     "outputs_hidden": false
    }
   },
   "outputs": [],
   "source": []
  },
  {
   "cell_type": "markdown",
   "metadata": {
    "id": "kLgQiyatLWQ9"
   },
   "source": [
    "35. Print the last elements of the data set."
   ]
  },
  {
   "cell_type": "code",
   "execution_count": null,
   "metadata": {
    "id": "CNiJBMoWLWQ9",
    "jupyter": {
     "outputs_hidden": false
    }
   },
   "outputs": [],
   "source": []
  },
  {
   "cell_type": "markdown",
   "metadata": {
    "id": "S0qa_r_PLWQ9"
   },
   "source": [
    "36. Create a function called majority that returns a boolean value to a new column called legal_drinker (Consider majority as older than 17 years old)"
   ]
  },
  {
   "cell_type": "code",
   "execution_count": null,
   "metadata": {
    "id": "3iD4FfR5LWQ-",
    "jupyter": {
     "outputs_hidden": false
    }
   },
   "outputs": [],
   "source": []
  },
  {
   "cell_type": "markdown",
   "metadata": {
    "id": "bSH0EsZsLWQ-"
   },
   "source": [
    "# Merge: Housing Market\n",
    "Referencias:\n",
    "* [randint](https://docs.scipy.org/doc/numpy-1.15.1/reference/generated/numpy.random.randint.html)"
   ]
  },
  {
   "cell_type": "markdown",
   "metadata": {
    "id": "L0ktOtYkLWQ-"
   },
   "source": [
    "This time we will create our own dataset with fictional numbers to describe a house market. As we are going to create random data don't try to reason of the numbers.\n",
    "\n",
    "37. Import the necessary libraries"
   ]
  },
  {
   "cell_type": "code",
   "execution_count": null,
   "metadata": {
    "id": "aS4rAwj7LWQ-",
    "jupyter": {
     "outputs_hidden": false
    }
   },
   "outputs": [],
   "source": []
  },
  {
   "cell_type": "markdown",
   "metadata": {
    "id": "qdAM7l1NLWQ-"
   },
   "source": [
    "38. Create 3 differents Series, each of length 100, as follows: \n",
    "<br>\n",
    "    The first a random number from 1 to 4 \n",
    "    <br>\n",
    "    The second a random number from 1 to 3\n",
    "    <br>\n",
    "    The third a random number from 10,000 to 30,000"
   ]
  },
  {
   "cell_type": "code",
   "execution_count": null,
   "metadata": {
    "id": "ls04bf44LWQ-",
    "jupyter": {
     "outputs_hidden": false
    }
   },
   "outputs": [],
   "source": []
  },
  {
   "cell_type": "markdown",
   "metadata": {
    "id": "ZZHgEOspLWQ-"
   },
   "source": [
    "39. Let's create a DataFrame by joinning the Series by column"
   ]
  },
  {
   "cell_type": "code",
   "execution_count": null,
   "metadata": {
    "id": "clunjO6KLWQ-",
    "jupyter": {
     "outputs_hidden": false
    }
   },
   "outputs": [],
   "source": []
  },
  {
   "cell_type": "markdown",
   "metadata": {
    "id": "oPQkTdB4LWQ-"
   },
   "source": [
    "40. Change the name of the columns to bedrs, bathrs, price_sqr_meter"
   ]
  },
  {
   "cell_type": "code",
   "execution_count": null,
   "metadata": {
    "id": "kkN464JtLWQ_",
    "jupyter": {
     "outputs_hidden": false
    }
   },
   "outputs": [],
   "source": []
  },
  {
   "cell_type": "markdown",
   "metadata": {
    "id": "OLnEWBTYLWQ_"
   },
   "source": [
    "41. Create a one column DataFrame with the values of the 3 Series and assign it to 'bigcolumn'"
   ]
  },
  {
   "cell_type": "code",
   "execution_count": null,
   "metadata": {
    "id": "w_1rlgDtLWQ_",
    "jupyter": {
     "outputs_hidden": false
    }
   },
   "outputs": [],
   "source": []
  },
  {
   "cell_type": "markdown",
   "metadata": {
    "id": "iiDdr4U1LWQ_"
   },
   "source": [
    "42. Oops, it seems it is going only until index 99. Is it true?"
   ]
  },
  {
   "cell_type": "code",
   "execution_count": null,
   "metadata": {
    "id": "hUYiF25yLWQ_",
    "jupyter": {
     "outputs_hidden": false
    }
   },
   "outputs": [],
   "source": []
  },
  {
   "cell_type": "markdown",
   "metadata": {
    "id": "zAN0F0WALWQ_"
   },
   "source": [
    "43. Reindex the DataFrame so it goes from 0 to 299"
   ]
  },
  {
   "cell_type": "code",
   "execution_count": null,
   "metadata": {
    "id": "ZsgD_8YOLWQ_",
    "jupyter": {
     "outputs_hidden": false
    }
   },
   "outputs": [],
   "source": []
  },
  {
   "cell_type": "markdown",
   "metadata": {
    "id": "QtdFrByQLWQ_"
   },
   "source": [
    "# Stats: US - Baby Names"
   ]
  },
  {
   "cell_type": "markdown",
   "metadata": {
    "id": "sK9aVQuDLWQ_"
   },
   "source": [
    "We are going to use a subset of [US Baby Names](https://www.kaggle.com/kaggle/us-baby-names) from Kaggle.  \n",
    "In the file it will be names from 2004 until 2014"
   ]
  },
  {
   "cell_type": "markdown",
   "metadata": {
    "id": "pE35PJdYLWRA"
   },
   "source": [
    "44. Import the dataset from this [address](https://facuzeta.github.io/udesa/01_programacion/guias/datasets/US_Baby_Names_right.csv.zip). "
   ]
  },
  {
   "cell_type": "code",
   "execution_count": 213,
   "metadata": {
    "id": "E2tYe3A0LWRA"
   },
   "outputs": [
    {
     "ename": "ModuleNotFoundError",
     "evalue": "No module named 'StringIO'",
     "output_type": "error",
     "traceback": [
      "\u001b[0;31m---------------------------------------------------------------------------\u001b[0m",
      "\u001b[0;31mModuleNotFoundError\u001b[0m                       Traceback (most recent call last)",
      "\u001b[0;32m<ipython-input-213-b926dfcf3eb1>\u001b[0m in \u001b[0;36m<module>\u001b[0;34m\u001b[0m\n\u001b[1;32m      1\u001b[0m \u001b[0maddr\u001b[0m \u001b[0;34m=\u001b[0m \u001b[0;34m'https://facuzeta.github.io/udesa/01_programacion/guias/datasets/US_Baby_Names_right.csv.zip'\u001b[0m\u001b[0;34m\u001b[0m\u001b[0;34m\u001b[0m\u001b[0m\n\u001b[0;32m----> 2\u001b[0;31m \u001b[0;32mimport\u001b[0m \u001b[0mrequests\u001b[0m\u001b[0;34m,\u001b[0m \u001b[0mzipfile\u001b[0m\u001b[0;34m,\u001b[0m \u001b[0mStringIO\u001b[0m\u001b[0;34m\u001b[0m\u001b[0;34m\u001b[0m\u001b[0m\n\u001b[0m\u001b[1;32m      3\u001b[0m \u001b[0mr\u001b[0m \u001b[0;34m=\u001b[0m \u001b[0mrequests\u001b[0m\u001b[0;34m.\u001b[0m\u001b[0mget\u001b[0m\u001b[0;34m(\u001b[0m\u001b[0maddr\u001b[0m\u001b[0;34m)\u001b[0m\u001b[0;34m\u001b[0m\u001b[0;34m\u001b[0m\u001b[0m\n\u001b[1;32m      4\u001b[0m \u001b[0mbaby_names\u001b[0m \u001b[0;34m=\u001b[0m \u001b[0mzipfile\u001b[0m\u001b[0;34m.\u001b[0m\u001b[0mZipFile\u001b[0m\u001b[0;34m(\u001b[0m\u001b[0mStringIO\u001b[0m\u001b[0;34m.\u001b[0m\u001b[0mStringIO\u001b[0m\u001b[0;34m(\u001b[0m\u001b[0mr\u001b[0m\u001b[0;34m.\u001b[0m\u001b[0mcontent\u001b[0m\u001b[0;34m)\u001b[0m\u001b[0;34m)\u001b[0m\u001b[0;34m\u001b[0m\u001b[0;34m\u001b[0m\u001b[0m\n",
      "\u001b[0;31mModuleNotFoundError\u001b[0m: No module named 'StringIO'"
     ]
    }
   ],
   "source": [
    "baby_names = pd.read_csv('"
   ]
  },
  {
   "cell_type": "markdown",
   "metadata": {
    "id": "rJ03xv9jLWRA"
   },
   "source": [
    "45. Assign it to a variable called baby_names."
   ]
  },
  {
   "cell_type": "code",
   "execution_count": null,
   "metadata": {
    "id": "CNJ6l2DHLWRA",
    "jupyter": {
     "outputs_hidden": false
    }
   },
   "outputs": [],
   "source": []
  },
  {
   "cell_type": "markdown",
   "metadata": {
    "id": "qsSNGjuYLWRA"
   },
   "source": [
    "46. See the first 10 entries"
   ]
  },
  {
   "cell_type": "code",
   "execution_count": null,
   "metadata": {
    "id": "1VtGeipNLWRA",
    "jupyter": {
     "outputs_hidden": false
    }
   },
   "outputs": [],
   "source": []
  },
  {
   "cell_type": "markdown",
   "metadata": {
    "id": "mcaUutMRLWRB"
   },
   "source": [
    "47. Delete the column 'Unnamed: 0' and 'Id'"
   ]
  },
  {
   "cell_type": "code",
   "execution_count": null,
   "metadata": {
    "id": "aJl2yJrHLWRB",
    "jupyter": {
     "outputs_hidden": false
    }
   },
   "outputs": [],
   "source": []
  },
  {
   "cell_type": "markdown",
   "metadata": {
    "id": "vzCo33DqLWRB"
   },
   "source": [
    "48. Is there more male or female names in the dataset?"
   ]
  },
  {
   "cell_type": "code",
   "execution_count": null,
   "metadata": {
    "id": "vak_88VELWRB",
    "jupyter": {
     "outputs_hidden": false
    }
   },
   "outputs": [],
   "source": []
  },
  {
   "cell_type": "markdown",
   "metadata": {
    "id": "1Ngp4l0qLWRB"
   },
   "source": [
    "49. Group the dataset by name and assign to names"
   ]
  },
  {
   "cell_type": "code",
   "execution_count": null,
   "metadata": {
    "id": "93D46L-KLWRB",
    "jupyter": {
     "outputs_hidden": false
    }
   },
   "outputs": [],
   "source": []
  },
  {
   "cell_type": "markdown",
   "metadata": {
    "id": "cORWN_KRLWRB"
   },
   "source": [
    "50. How many different names exist in the dataset?"
   ]
  },
  {
   "cell_type": "code",
   "execution_count": null,
   "metadata": {
    "id": "Ymi5Ka0XLWRC",
    "jupyter": {
     "outputs_hidden": false
    }
   },
   "outputs": [],
   "source": []
  },
  {
   "cell_type": "markdown",
   "metadata": {
    "id": "rFdsXAZNLWRC"
   },
   "source": [
    "51. What is the name with most occurrences?"
   ]
  },
  {
   "cell_type": "code",
   "execution_count": null,
   "metadata": {
    "id": "1p3J6D1kLWRC",
    "jupyter": {
     "outputs_hidden": false
    }
   },
   "outputs": [],
   "source": []
  },
  {
   "cell_type": "markdown",
   "metadata": {
    "id": "Qp6DtXmsLWRC"
   },
   "source": [
    "52. How many different names have the least occurrences?"
   ]
  },
  {
   "cell_type": "code",
   "execution_count": null,
   "metadata": {
    "id": "2XjnaGcCLWRC",
    "jupyter": {
     "outputs_hidden": false
    }
   },
   "outputs": [],
   "source": []
  },
  {
   "cell_type": "markdown",
   "metadata": {
    "id": "l-oJH2LJLWRC"
   },
   "source": [
    "53. What is the median name occurrence?"
   ]
  },
  {
   "cell_type": "code",
   "execution_count": null,
   "metadata": {
    "id": "Z_juq4aoLWRD",
    "jupyter": {
     "outputs_hidden": false
    }
   },
   "outputs": [],
   "source": []
  },
  {
   "cell_type": "markdown",
   "metadata": {
    "id": "9AmT30wKLWRD"
   },
   "source": [
    "54. What is the standard deviation of names?"
   ]
  },
  {
   "cell_type": "code",
   "execution_count": null,
   "metadata": {
    "id": "R8IEyVJHLWRD",
    "jupyter": {
     "outputs_hidden": false
    }
   },
   "outputs": [],
   "source": []
  },
  {
   "cell_type": "markdown",
   "metadata": {
    "id": "my1YgsznLWRD"
   },
   "source": [
    "55. Get a summary with the mean, min, max, std and quartiles."
   ]
  },
  {
   "cell_type": "code",
   "execution_count": null,
   "metadata": {
    "id": "rJCvu3QJLWRD",
    "jupyter": {
     "outputs_hidden": false
    }
   },
   "outputs": [],
   "source": []
  },
  {
   "cell_type": "markdown",
   "metadata": {
    "id": "tKL4ibUALWRD"
   },
   "source": [
    "# Deleting: Iris\n",
    "Referencias:\n",
    "* [fillna](https://pandas.pydata.org/pandas-docs/stable/reference/api/pandas.DataFrame.fillna.html)"
   ]
  },
  {
   "cell_type": "markdown",
   "metadata": {
    "id": "TodOhpWCLWRE"
   },
   "source": [
    "56. Import the dataset from this [address](https://archive.ics.uci.edu/ml/machine-learning-databases/iris/iris.data). "
   ]
  },
  {
   "cell_type": "code",
   "execution_count": null,
   "metadata": {
    "id": "IFUctl0HLWRE"
   },
   "outputs": [],
   "source": []
  },
  {
   "cell_type": "markdown",
   "metadata": {
    "id": "_BdIlmNQLWRE"
   },
   "source": [
    "57. Assign it to a variable called iris"
   ]
  },
  {
   "cell_type": "code",
   "execution_count": null,
   "metadata": {
    "id": "nUxhiOlkLWRE",
    "jupyter": {
     "outputs_hidden": false
    }
   },
   "outputs": [],
   "source": []
  },
  {
   "cell_type": "markdown",
   "metadata": {
    "id": "pjdMlOFpLWRE"
   },
   "source": [
    "58. Create columns for the dataset"
   ]
  },
  {
   "cell_type": "code",
   "execution_count": null,
   "metadata": {
    "id": "8oOSAZ-3LWRE",
    "jupyter": {
     "outputs_hidden": false
    }
   },
   "outputs": [],
   "source": [
    "# 1. sepal_length (in cm)\n",
    "# 2. sepal_width (in cm)\n",
    "# 3. petal_length (in cm)\n",
    "# 4. petal_width (in cm)\n",
    "# 5. class"
   ]
  },
  {
   "cell_type": "markdown",
   "metadata": {
    "id": "u7xuSc4JLWRE"
   },
   "source": [
    "59.  Is there any missing value in the dataframe?"
   ]
  },
  {
   "cell_type": "code",
   "execution_count": null,
   "metadata": {
    "id": "RGi0PsW7LWRE",
    "jupyter": {
     "outputs_hidden": false
    }
   },
   "outputs": [],
   "source": []
  },
  {
   "cell_type": "markdown",
   "metadata": {
    "id": "miMk4ugFLWRE"
   },
   "source": [
    "60.  Lets set the values of the rows 10 to 29 of the column 'petal_length' to NaN"
   ]
  },
  {
   "cell_type": "code",
   "execution_count": null,
   "metadata": {
    "id": "JWxjRXy1LWRF",
    "jupyter": {
     "outputs_hidden": false
    }
   },
   "outputs": [],
   "source": []
  },
  {
   "cell_type": "markdown",
   "metadata": {
    "id": "CtNc6WWFLWRF"
   },
   "source": [
    "61. Good, now lets substitute the NaN values to 1.0"
   ]
  },
  {
   "cell_type": "code",
   "execution_count": null,
   "metadata": {
    "id": "AL5BOQdoLWRF",
    "jupyter": {
     "outputs_hidden": false
    }
   },
   "outputs": [],
   "source": []
  },
  {
   "cell_type": "markdown",
   "metadata": {
    "id": "RWsRRCAzLWRF"
   },
   "source": [
    "62. Now let's delete the column class"
   ]
  },
  {
   "cell_type": "code",
   "execution_count": null,
   "metadata": {
    "id": "OMklvz1JLWRF",
    "jupyter": {
     "outputs_hidden": false
    }
   },
   "outputs": [],
   "source": []
  },
  {
   "cell_type": "markdown",
   "metadata": {
    "id": "FwLeZYcCLWRF"
   },
   "source": [
    "63.  Set the first 3 rows as NaN"
   ]
  },
  {
   "cell_type": "code",
   "execution_count": null,
   "metadata": {
    "id": "4d0HI_4WLWRF",
    "jupyter": {
     "outputs_hidden": false
    }
   },
   "outputs": [],
   "source": []
  },
  {
   "cell_type": "markdown",
   "metadata": {
    "id": "h3sgAW03LWRF"
   },
   "source": [
    "64.  Delete the rows that have NaN"
   ]
  },
  {
   "cell_type": "code",
   "execution_count": null,
   "metadata": {
    "id": "FLyyQoa0LWRG",
    "jupyter": {
     "outputs_hidden": false
    }
   },
   "outputs": [],
   "source": []
  },
  {
   "cell_type": "markdown",
   "metadata": {
    "id": "5sGGCSHpLWRG"
   },
   "source": [
    "65. Reset the index so it begins with 0 again"
   ]
  },
  {
   "cell_type": "code",
   "execution_count": null,
   "metadata": {
    "id": "pQC3eUQ4LWRG",
    "jupyter": {
     "outputs_hidden": false
    }
   },
   "outputs": [],
   "source": []
  },
  {
   "cell_type": "markdown",
   "metadata": {
    "id": "ZsNVuCJLLWRG"
   },
   "source": [
    "# Bonus:\n",
    "Si quiere mas ejercicios visitar:\n",
    "* https://github.com/ajcr/100-pandas-puzzles/blob/master/100-pandas-puzzles.ipynb\n",
    "* https://www.machinelearningplus.com/python/101-pandas-exercises-python/"
   ]
  },
  {
   "cell_type": "markdown",
   "metadata": {},
   "source": [
    "## Extra"
   ]
  },
  {
   "cell_type": "code",
   "execution_count": 150,
   "metadata": {
    "id": "PbtF3fLXLWRG"
   },
   "outputs": [],
   "source": [
    "dfhbr = pd.read_csv('hbr2.csv', sep=',')"
   ]
  },
  {
   "cell_type": "code",
   "execution_count": 151,
   "metadata": {},
   "outputs": [
    {
     "data": {
      "text/html": [
       "<div>\n",
       "<style scoped>\n",
       "    .dataframe tbody tr th:only-of-type {\n",
       "        vertical-align: middle;\n",
       "    }\n",
       "\n",
       "    .dataframe tbody tr th {\n",
       "        vertical-align: top;\n",
       "    }\n",
       "\n",
       "    .dataframe thead th {\n",
       "        text-align: right;\n",
       "    }\n",
       "</style>\n",
       "<table border=\"1\" class=\"dataframe\">\n",
       "  <thead>\n",
       "    <tr style=\"text-align: right;\">\n",
       "      <th></th>\n",
       "      <th>Satellite</th>\n",
       "      <th>ground_station</th>\n",
       "      <th>AOS</th>\n",
       "      <th>LOS</th>\n",
       "      <th>host</th>\n",
       "      <th>radio_backend</th>\n",
       "      <th>antenna_id</th>\n",
       "      <th>Grafana</th>\n",
       "      <th>downloaded_MB</th>\n",
       "      <th>max_elevation</th>\n",
       "      <th>...</th>\n",
       "      <th>bitrate_mbps_max</th>\n",
       "      <th>bitrate_mbps_mean</th>\n",
       "      <th>hbr_time_usage_percentage</th>\n",
       "      <th>hbr_queue_bytes</th>\n",
       "      <th>status</th>\n",
       "      <th>hour</th>\n",
       "      <th>date</th>\n",
       "      <th>month</th>\n",
       "      <th>delta_current</th>\n",
       "      <th>delta_SNR</th>\n",
       "    </tr>\n",
       "  </thead>\n",
       "  <tbody>\n",
       "    <tr>\n",
       "      <th>0</th>\n",
       "      <td>newsat10</td>\n",
       "      <td>SVA_Boulanger</td>\n",
       "      <td>2022-06-24 18:46:21+00:00</td>\n",
       "      <td>2022-06-24 18:57:22+00:00</td>\n",
       "      <td>macro</td>\n",
       "      <td>SATELLOGIC_SG_CFE4</td>\n",
       "      <td>SG221</td>\n",
       "      <td>LINK</td>\n",
       "      <td>952.757500</td>\n",
       "      <td>85.219744</td>\n",
       "      <td>...</td>\n",
       "      <td>105.84</td>\n",
       "      <td>102.680597</td>\n",
       "      <td>11.04</td>\n",
       "      <td>648160900.0</td>\n",
       "      <td>Link on</td>\n",
       "      <td>18</td>\n",
       "      <td>24</td>\n",
       "      <td>6</td>\n",
       "      <td>0.044</td>\n",
       "      <td>1.329851</td>\n",
       "    </tr>\n",
       "    <tr>\n",
       "      <th>1</th>\n",
       "      <td>newsat10</td>\n",
       "      <td>Troll_Corsini</td>\n",
       "      <td>2022-06-26 21:39:07+00:00</td>\n",
       "      <td>2022-06-26 21:49:27+00:00</td>\n",
       "      <td>macro</td>\n",
       "      <td>SATELLOGIC_TR_CFE2</td>\n",
       "      <td>TR16</td>\n",
       "      <td>LINK</td>\n",
       "      <td>405.514656</td>\n",
       "      <td>22.016387</td>\n",
       "      <td>...</td>\n",
       "      <td>105.84</td>\n",
       "      <td>11.392500</td>\n",
       "      <td>51.94</td>\n",
       "      <td>40960.0</td>\n",
       "      <td>Link on</td>\n",
       "      <td>21</td>\n",
       "      <td>26</td>\n",
       "      <td>6</td>\n",
       "      <td>0.037</td>\n",
       "      <td>0.054514</td>\n",
       "    </tr>\n",
       "    <tr>\n",
       "      <th>2</th>\n",
       "      <td>newsat10</td>\n",
       "      <td>Troll_Corsini</td>\n",
       "      <td>2022-06-26 23:12:07+00:00</td>\n",
       "      <td>2022-06-26 23:23:12+00:00</td>\n",
       "      <td>macro</td>\n",
       "      <td>SATELLOGIC_TR_CFE2</td>\n",
       "      <td>TR15</td>\n",
       "      <td>LINK</td>\n",
       "      <td>176.357600</td>\n",
       "      <td>72.822421</td>\n",
       "      <td>...</td>\n",
       "      <td>105.84</td>\n",
       "      <td>105.840000</td>\n",
       "      <td>1.65</td>\n",
       "      <td>40960.0</td>\n",
       "      <td>Link on</td>\n",
       "      <td>23</td>\n",
       "      <td>26</td>\n",
       "      <td>6</td>\n",
       "      <td>0.032</td>\n",
       "      <td>0.620000</td>\n",
       "    </tr>\n",
       "    <tr>\n",
       "      <th>3</th>\n",
       "      <td>newsat10</td>\n",
       "      <td>SVA_Boulanger</td>\n",
       "      <td>2022-06-24 21:53:40+00:00</td>\n",
       "      <td>2022-06-24 22:03:42+00:00</td>\n",
       "      <td>macro</td>\n",
       "      <td>SATELLOGIC_SG_CFE1</td>\n",
       "      <td>SG221</td>\n",
       "      <td>LINK</td>\n",
       "      <td>79.071952</td>\n",
       "      <td>18.612427</td>\n",
       "      <td>...</td>\n",
       "      <td>105.84</td>\n",
       "      <td>70.560000</td>\n",
       "      <td>0.83</td>\n",
       "      <td>40960.0</td>\n",
       "      <td>Link on</td>\n",
       "      <td>21</td>\n",
       "      <td>24</td>\n",
       "      <td>6</td>\n",
       "      <td>0.013</td>\n",
       "      <td>0.066667</td>\n",
       "    </tr>\n",
       "    <tr>\n",
       "      <th>4</th>\n",
       "      <td>newsat13</td>\n",
       "      <td>HBK_Goyeneche</td>\n",
       "      <td>2022-06-24 19:44:54+00:00</td>\n",
       "      <td>2022-06-24 19:54:24+00:00</td>\n",
       "      <td>micro</td>\n",
       "      <td>SATELLOGIC_HA_CFE2</td>\n",
       "      <td>HA2</td>\n",
       "      <td>LINK</td>\n",
       "      <td>4457.878500</td>\n",
       "      <td>15.142089</td>\n",
       "      <td>...</td>\n",
       "      <td>105.84</td>\n",
       "      <td>105.649653</td>\n",
       "      <td>62.11</td>\n",
       "      <td>NaN</td>\n",
       "      <td>Link on</td>\n",
       "      <td>19</td>\n",
       "      <td>24</td>\n",
       "      <td>6</td>\n",
       "      <td>0.043</td>\n",
       "      <td>2.611987</td>\n",
       "    </tr>\n",
       "  </tbody>\n",
       "</table>\n",
       "<p>5 rows × 44 columns</p>\n",
       "</div>"
      ],
      "text/plain": [
       "  Satellite ground_station                        AOS  \\\n",
       "0  newsat10  SVA_Boulanger  2022-06-24 18:46:21+00:00   \n",
       "1  newsat10  Troll_Corsini  2022-06-26 21:39:07+00:00   \n",
       "2  newsat10  Troll_Corsini  2022-06-26 23:12:07+00:00   \n",
       "3  newsat10  SVA_Boulanger  2022-06-24 21:53:40+00:00   \n",
       "4  newsat13  HBK_Goyeneche  2022-06-24 19:44:54+00:00   \n",
       "\n",
       "                         LOS   host       radio_backend antenna_id Grafana  \\\n",
       "0  2022-06-24 18:57:22+00:00  macro  SATELLOGIC_SG_CFE4      SG221    LINK   \n",
       "1  2022-06-26 21:49:27+00:00  macro  SATELLOGIC_TR_CFE2       TR16    LINK   \n",
       "2  2022-06-26 23:23:12+00:00  macro  SATELLOGIC_TR_CFE2       TR15    LINK   \n",
       "3  2022-06-24 22:03:42+00:00  macro  SATELLOGIC_SG_CFE1      SG221    LINK   \n",
       "4  2022-06-24 19:54:24+00:00  micro  SATELLOGIC_HA_CFE2        HA2    LINK   \n",
       "\n",
       "   downloaded_MB  max_elevation  ...  bitrate_mbps_max  bitrate_mbps_mean  \\\n",
       "0     952.757500      85.219744  ...            105.84         102.680597   \n",
       "1     405.514656      22.016387  ...            105.84          11.392500   \n",
       "2     176.357600      72.822421  ...            105.84         105.840000   \n",
       "3      79.071952      18.612427  ...            105.84          70.560000   \n",
       "4    4457.878500      15.142089  ...            105.84         105.649653   \n",
       "\n",
       "   hbr_time_usage_percentage  hbr_queue_bytes   status  hour  date  month  \\\n",
       "0                      11.04      648160900.0  Link on    18    24      6   \n",
       "1                      51.94          40960.0  Link on    21    26      6   \n",
       "2                       1.65          40960.0  Link on    23    26      6   \n",
       "3                       0.83          40960.0  Link on    21    24      6   \n",
       "4                      62.11              NaN  Link on    19    24      6   \n",
       "\n",
       "   delta_current  delta_SNR  \n",
       "0          0.044   1.329851  \n",
       "1          0.037   0.054514  \n",
       "2          0.032   0.620000  \n",
       "3          0.013   0.066667  \n",
       "4          0.043   2.611987  \n",
       "\n",
       "[5 rows x 44 columns]"
      ]
     },
     "execution_count": 151,
     "metadata": {},
     "output_type": "execute_result"
    }
   ],
   "source": [
    "dfhbr.head()"
   ]
  },
  {
   "cell_type": "code",
   "execution_count": 152,
   "metadata": {},
   "outputs": [
    {
     "data": {
      "text/plain": [
       "Index(['Satellite', 'ground_station', 'AOS', 'LOS', 'host', 'radio_backend',\n",
       "       'antenna_id', 'Grafana', 'downloaded_MB', 'max_elevation',\n",
       "       'max_elevation_first_digit', 'temp_C_min', 'temp_C_max', 'temp_C_mean',\n",
       "       'xbd_output_power_detector_min', 'xbd_output_power_detector_max',\n",
       "       'xbd_output_power_detector_mean', 'xbd_input_power_min',\n",
       "       'xbd_input_power_max', 'xbd_input_power_mean', 'xbd_hpa_current_A_min',\n",
       "       'xbd_hpa_current_A_max', 'xbd_hpa_current_A_mean',\n",
       "       'symbol_rate_mbd_min', 'symbol_rate_mbd_max', 'symbol_rate_mbd_mean',\n",
       "       'snr_min', 'snr_max', 'snr_mean', 'dif_snr_rf_level', 'rflevel_min',\n",
       "       'rflevel_max', 'rflevel_mean', 'bitrate_mbps_min', 'bitrate_mbps_max',\n",
       "       'bitrate_mbps_mean', 'hbr_time_usage_percentage', 'hbr_queue_bytes',\n",
       "       'status', 'hour', 'date', 'month', 'delta_current', 'delta_SNR'],\n",
       "      dtype='object')"
      ]
     },
     "execution_count": 152,
     "metadata": {},
     "output_type": "execute_result"
    }
   ],
   "source": [
    "dfhbr.columns"
   ]
  },
  {
   "cell_type": "code",
   "execution_count": 155,
   "metadata": {},
   "outputs": [
    {
     "data": {
      "text/html": [
       "<div>\n",
       "<style scoped>\n",
       "    .dataframe tbody tr th:only-of-type {\n",
       "        vertical-align: middle;\n",
       "    }\n",
       "\n",
       "    .dataframe tbody tr th {\n",
       "        vertical-align: top;\n",
       "    }\n",
       "\n",
       "    .dataframe thead th {\n",
       "        text-align: right;\n",
       "    }\n",
       "</style>\n",
       "<table border=\"1\" class=\"dataframe\">\n",
       "  <thead>\n",
       "    <tr style=\"text-align: right;\">\n",
       "      <th></th>\n",
       "      <th>downloaded_MB</th>\n",
       "      <th>max_elevation</th>\n",
       "      <th>max_elevation_first_digit</th>\n",
       "      <th>temp_C_min</th>\n",
       "      <th>temp_C_max</th>\n",
       "      <th>temp_C_mean</th>\n",
       "      <th>xbd_output_power_detector_min</th>\n",
       "      <th>xbd_output_power_detector_max</th>\n",
       "      <th>xbd_output_power_detector_mean</th>\n",
       "      <th>xbd_input_power_min</th>\n",
       "      <th>...</th>\n",
       "      <th>rflevel_mean</th>\n",
       "      <th>bitrate_mbps_min</th>\n",
       "      <th>bitrate_mbps_max</th>\n",
       "      <th>bitrate_mbps_mean</th>\n",
       "      <th>hbr_queue_bytes</th>\n",
       "      <th>hour</th>\n",
       "      <th>date</th>\n",
       "      <th>month</th>\n",
       "      <th>delta_current</th>\n",
       "      <th>delta_SNR</th>\n",
       "    </tr>\n",
       "    <tr>\n",
       "      <th>hbr_time_usage_percentage</th>\n",
       "      <th></th>\n",
       "      <th></th>\n",
       "      <th></th>\n",
       "      <th></th>\n",
       "      <th></th>\n",
       "      <th></th>\n",
       "      <th></th>\n",
       "      <th></th>\n",
       "      <th></th>\n",
       "      <th></th>\n",
       "      <th></th>\n",
       "      <th></th>\n",
       "      <th></th>\n",
       "      <th></th>\n",
       "      <th></th>\n",
       "      <th></th>\n",
       "      <th></th>\n",
       "      <th></th>\n",
       "      <th></th>\n",
       "      <th></th>\n",
       "      <th></th>\n",
       "    </tr>\n",
       "  </thead>\n",
       "  <tbody>\n",
       "    <tr>\n",
       "      <th>0.30</th>\n",
       "      <td>25.181408</td>\n",
       "      <td>73.696254</td>\n",
       "      <td>7.0</td>\n",
       "      <td>-7.19</td>\n",
       "      <td>6.84</td>\n",
       "      <td>1.631609</td>\n",
       "      <td>1.325</td>\n",
       "      <td>1.591</td>\n",
       "      <td>1.425475</td>\n",
       "      <td>-12.4</td>\n",
       "      <td>...</td>\n",
       "      <td>-49.502989</td>\n",
       "      <td>105.84</td>\n",
       "      <td>105.84</td>\n",
       "      <td>105.840000</td>\n",
       "      <td>1.403986e+07</td>\n",
       "      <td>11.0</td>\n",
       "      <td>26.0</td>\n",
       "      <td>6.0</td>\n",
       "      <td>0.054</td>\n",
       "      <td>0.000000e+00</td>\n",
       "    </tr>\n",
       "    <tr>\n",
       "      <th>0.31</th>\n",
       "      <td>110.674984</td>\n",
       "      <td>27.763331</td>\n",
       "      <td>2.0</td>\n",
       "      <td>1.58</td>\n",
       "      <td>13.27</td>\n",
       "      <td>8.925446</td>\n",
       "      <td>0.992</td>\n",
       "      <td>1.173</td>\n",
       "      <td>1.067568</td>\n",
       "      <td>-14.6</td>\n",
       "      <td>...</td>\n",
       "      <td>-46.466886</td>\n",
       "      <td>105.84</td>\n",
       "      <td>105.84</td>\n",
       "      <td>105.840000</td>\n",
       "      <td>NaN</td>\n",
       "      <td>9.0</td>\n",
       "      <td>26.0</td>\n",
       "      <td>6.0</td>\n",
       "      <td>0.031</td>\n",
       "      <td>5.650000e+00</td>\n",
       "    </tr>\n",
       "    <tr>\n",
       "      <th>0.32</th>\n",
       "      <td>67.048572</td>\n",
       "      <td>27.300924</td>\n",
       "      <td>2.0</td>\n",
       "      <td>-5.44</td>\n",
       "      <td>5.09</td>\n",
       "      <td>1.306109</td>\n",
       "      <td>1.315</td>\n",
       "      <td>1.565</td>\n",
       "      <td>1.415832</td>\n",
       "      <td>NaN</td>\n",
       "      <td>...</td>\n",
       "      <td>-61.175684</td>\n",
       "      <td>10.57</td>\n",
       "      <td>10.57</td>\n",
       "      <td>10.570000</td>\n",
       "      <td>1.017856e+07</td>\n",
       "      <td>0.0</td>\n",
       "      <td>27.0</td>\n",
       "      <td>6.0</td>\n",
       "      <td>0.085</td>\n",
       "      <td>1.780000e-15</td>\n",
       "    </tr>\n",
       "    <tr>\n",
       "      <th>0.45</th>\n",
       "      <td>98.233192</td>\n",
       "      <td>41.912300</td>\n",
       "      <td>4.0</td>\n",
       "      <td>-8.07</td>\n",
       "      <td>7.13</td>\n",
       "      <td>1.166667</td>\n",
       "      <td>1.113</td>\n",
       "      <td>1.340</td>\n",
       "      <td>1.196180</td>\n",
       "      <td>NaN</td>\n",
       "      <td>...</td>\n",
       "      <td>-47.063470</td>\n",
       "      <td>105.84</td>\n",
       "      <td>105.84</td>\n",
       "      <td>105.840000</td>\n",
       "      <td>0.000000e+00</td>\n",
       "      <td>14.0</td>\n",
       "      <td>27.0</td>\n",
       "      <td>6.0</td>\n",
       "      <td>0.050</td>\n",
       "      <td>3.333333e-01</td>\n",
       "    </tr>\n",
       "    <tr>\n",
       "      <th>0.64</th>\n",
       "      <td>104.996712</td>\n",
       "      <td>23.334517</td>\n",
       "      <td>2.0</td>\n",
       "      <td>5.96</td>\n",
       "      <td>16.78</td>\n",
       "      <td>12.657669</td>\n",
       "      <td>1.196</td>\n",
       "      <td>1.449</td>\n",
       "      <td>1.284925</td>\n",
       "      <td>-12.5</td>\n",
       "      <td>...</td>\n",
       "      <td>-60.569424</td>\n",
       "      <td>105.84</td>\n",
       "      <td>105.84</td>\n",
       "      <td>105.840000</td>\n",
       "      <td>1.017856e+07</td>\n",
       "      <td>9.0</td>\n",
       "      <td>25.0</td>\n",
       "      <td>6.0</td>\n",
       "      <td>0.062</td>\n",
       "      <td>0.000000e+00</td>\n",
       "    </tr>\n",
       "    <tr>\n",
       "      <th>...</th>\n",
       "      <td>...</td>\n",
       "      <td>...</td>\n",
       "      <td>...</td>\n",
       "      <td>...</td>\n",
       "      <td>...</td>\n",
       "      <td>...</td>\n",
       "      <td>...</td>\n",
       "      <td>...</td>\n",
       "      <td>...</td>\n",
       "      <td>...</td>\n",
       "      <td>...</td>\n",
       "      <td>...</td>\n",
       "      <td>...</td>\n",
       "      <td>...</td>\n",
       "      <td>...</td>\n",
       "      <td>...</td>\n",
       "      <td>...</td>\n",
       "      <td>...</td>\n",
       "      <td>...</td>\n",
       "      <td>...</td>\n",
       "      <td>...</td>\n",
       "    </tr>\n",
       "    <tr>\n",
       "      <th>74.71</th>\n",
       "      <td>6444.442100</td>\n",
       "      <td>84.257160</td>\n",
       "      <td>8.0</td>\n",
       "      <td>-8.95</td>\n",
       "      <td>5.09</td>\n",
       "      <td>-0.137118</td>\n",
       "      <td>1.296</td>\n",
       "      <td>1.546</td>\n",
       "      <td>1.375351</td>\n",
       "      <td>-21.8</td>\n",
       "      <td>...</td>\n",
       "      <td>-33.210753</td>\n",
       "      <td>105.84</td>\n",
       "      <td>105.84</td>\n",
       "      <td>105.840000</td>\n",
       "      <td>7.080833e+10</td>\n",
       "      <td>19.0</td>\n",
       "      <td>25.0</td>\n",
       "      <td>6.0</td>\n",
       "      <td>0.020</td>\n",
       "      <td>2.159519e+00</td>\n",
       "    </tr>\n",
       "    <tr>\n",
       "      <th>74.96</th>\n",
       "      <td>2283.339260</td>\n",
       "      <td>78.979353</td>\n",
       "      <td>7.0</td>\n",
       "      <td>-6.02</td>\n",
       "      <td>6.84</td>\n",
       "      <td>2.179556</td>\n",
       "      <td>0.790</td>\n",
       "      <td>0.916</td>\n",
       "      <td>0.827734</td>\n",
       "      <td>NaN</td>\n",
       "      <td>...</td>\n",
       "      <td>-36.861945</td>\n",
       "      <td>0.00</td>\n",
       "      <td>105.84</td>\n",
       "      <td>35.732308</td>\n",
       "      <td>1.031861e+10</td>\n",
       "      <td>18.0</td>\n",
       "      <td>25.0</td>\n",
       "      <td>6.0</td>\n",
       "      <td>0.016</td>\n",
       "      <td>1.519872e+00</td>\n",
       "    </tr>\n",
       "    <tr>\n",
       "      <th>75.00</th>\n",
       "      <td>6777.282000</td>\n",
       "      <td>69.034119</td>\n",
       "      <td>6.0</td>\n",
       "      <td>-1.64</td>\n",
       "      <td>10.64</td>\n",
       "      <td>6.012951</td>\n",
       "      <td>1.151</td>\n",
       "      <td>1.424</td>\n",
       "      <td>1.238585</td>\n",
       "      <td>-22.3</td>\n",
       "      <td>...</td>\n",
       "      <td>-39.085188</td>\n",
       "      <td>105.84</td>\n",
       "      <td>105.84</td>\n",
       "      <td>105.840000</td>\n",
       "      <td>2.824157e+10</td>\n",
       "      <td>20.0</td>\n",
       "      <td>25.0</td>\n",
       "      <td>6.0</td>\n",
       "      <td>0.020</td>\n",
       "      <td>5.995069e+00</td>\n",
       "    </tr>\n",
       "    <tr>\n",
       "      <th>75.35</th>\n",
       "      <td>6803.035600</td>\n",
       "      <td>60.497383</td>\n",
       "      <td>6.0</td>\n",
       "      <td>-1.64</td>\n",
       "      <td>12.11</td>\n",
       "      <td>6.769837</td>\n",
       "      <td>1.140</td>\n",
       "      <td>1.433</td>\n",
       "      <td>1.229980</td>\n",
       "      <td>NaN</td>\n",
       "      <td>...</td>\n",
       "      <td>-39.807347</td>\n",
       "      <td>105.84</td>\n",
       "      <td>105.84</td>\n",
       "      <td>105.840000</td>\n",
       "      <td>NaN</td>\n",
       "      <td>22.0</td>\n",
       "      <td>24.0</td>\n",
       "      <td>6.0</td>\n",
       "      <td>0.025</td>\n",
       "      <td>8.705165e+00</td>\n",
       "    </tr>\n",
       "    <tr>\n",
       "      <th>75.74</th>\n",
       "      <td>6825.310700</td>\n",
       "      <td>80.067476</td>\n",
       "      <td>8.0</td>\n",
       "      <td>2.16</td>\n",
       "      <td>14.74</td>\n",
       "      <td>9.899532</td>\n",
       "      <td>0.898</td>\n",
       "      <td>1.079</td>\n",
       "      <td>0.953482</td>\n",
       "      <td>-24.4</td>\n",
       "      <td>...</td>\n",
       "      <td>-45.088391</td>\n",
       "      <td>105.84</td>\n",
       "      <td>105.84</td>\n",
       "      <td>105.840000</td>\n",
       "      <td>1.117064e+10</td>\n",
       "      <td>14.0</td>\n",
       "      <td>25.0</td>\n",
       "      <td>6.0</td>\n",
       "      <td>0.014</td>\n",
       "      <td>4.378601e+00</td>\n",
       "    </tr>\n",
       "  </tbody>\n",
       "</table>\n",
       "<p>518 rows × 34 columns</p>\n",
       "</div>"
      ],
      "text/plain": [
       "                           downloaded_MB  max_elevation  \\\n",
       "hbr_time_usage_percentage                                 \n",
       "0.30                           25.181408      73.696254   \n",
       "0.31                          110.674984      27.763331   \n",
       "0.32                           67.048572      27.300924   \n",
       "0.45                           98.233192      41.912300   \n",
       "0.64                          104.996712      23.334517   \n",
       "...                                  ...            ...   \n",
       "74.71                        6444.442100      84.257160   \n",
       "74.96                        2283.339260      78.979353   \n",
       "75.00                        6777.282000      69.034119   \n",
       "75.35                        6803.035600      60.497383   \n",
       "75.74                        6825.310700      80.067476   \n",
       "\n",
       "                           max_elevation_first_digit  temp_C_min  temp_C_max  \\\n",
       "hbr_time_usage_percentage                                                      \n",
       "0.30                                             7.0       -7.19        6.84   \n",
       "0.31                                             2.0        1.58       13.27   \n",
       "0.32                                             2.0       -5.44        5.09   \n",
       "0.45                                             4.0       -8.07        7.13   \n",
       "0.64                                             2.0        5.96       16.78   \n",
       "...                                              ...         ...         ...   \n",
       "74.71                                            8.0       -8.95        5.09   \n",
       "74.96                                            7.0       -6.02        6.84   \n",
       "75.00                                            6.0       -1.64       10.64   \n",
       "75.35                                            6.0       -1.64       12.11   \n",
       "75.74                                            8.0        2.16       14.74   \n",
       "\n",
       "                           temp_C_mean  xbd_output_power_detector_min  \\\n",
       "hbr_time_usage_percentage                                               \n",
       "0.30                          1.631609                          1.325   \n",
       "0.31                          8.925446                          0.992   \n",
       "0.32                          1.306109                          1.315   \n",
       "0.45                          1.166667                          1.113   \n",
       "0.64                         12.657669                          1.196   \n",
       "...                                ...                            ...   \n",
       "74.71                        -0.137118                          1.296   \n",
       "74.96                         2.179556                          0.790   \n",
       "75.00                         6.012951                          1.151   \n",
       "75.35                         6.769837                          1.140   \n",
       "75.74                         9.899532                          0.898   \n",
       "\n",
       "                           xbd_output_power_detector_max  \\\n",
       "hbr_time_usage_percentage                                  \n",
       "0.30                                               1.591   \n",
       "0.31                                               1.173   \n",
       "0.32                                               1.565   \n",
       "0.45                                               1.340   \n",
       "0.64                                               1.449   \n",
       "...                                                  ...   \n",
       "74.71                                              1.546   \n",
       "74.96                                              0.916   \n",
       "75.00                                              1.424   \n",
       "75.35                                              1.433   \n",
       "75.74                                              1.079   \n",
       "\n",
       "                           xbd_output_power_detector_mean  \\\n",
       "hbr_time_usage_percentage                                   \n",
       "0.30                                             1.425475   \n",
       "0.31                                             1.067568   \n",
       "0.32                                             1.415832   \n",
       "0.45                                             1.196180   \n",
       "0.64                                             1.284925   \n",
       "...                                                   ...   \n",
       "74.71                                            1.375351   \n",
       "74.96                                            0.827734   \n",
       "75.00                                            1.238585   \n",
       "75.35                                            1.229980   \n",
       "75.74                                            0.953482   \n",
       "\n",
       "                           xbd_input_power_min  ...  rflevel_mean  \\\n",
       "hbr_time_usage_percentage                       ...                 \n",
       "0.30                                     -12.4  ...    -49.502989   \n",
       "0.31                                     -14.6  ...    -46.466886   \n",
       "0.32                                       NaN  ...    -61.175684   \n",
       "0.45                                       NaN  ...    -47.063470   \n",
       "0.64                                     -12.5  ...    -60.569424   \n",
       "...                                        ...  ...           ...   \n",
       "74.71                                    -21.8  ...    -33.210753   \n",
       "74.96                                      NaN  ...    -36.861945   \n",
       "75.00                                    -22.3  ...    -39.085188   \n",
       "75.35                                      NaN  ...    -39.807347   \n",
       "75.74                                    -24.4  ...    -45.088391   \n",
       "\n",
       "                           bitrate_mbps_min  bitrate_mbps_max  \\\n",
       "hbr_time_usage_percentage                                       \n",
       "0.30                                 105.84            105.84   \n",
       "0.31                                 105.84            105.84   \n",
       "0.32                                  10.57             10.57   \n",
       "0.45                                 105.84            105.84   \n",
       "0.64                                 105.84            105.84   \n",
       "...                                     ...               ...   \n",
       "74.71                                105.84            105.84   \n",
       "74.96                                  0.00            105.84   \n",
       "75.00                                105.84            105.84   \n",
       "75.35                                105.84            105.84   \n",
       "75.74                                105.84            105.84   \n",
       "\n",
       "                           bitrate_mbps_mean  hbr_queue_bytes  hour  date  \\\n",
       "hbr_time_usage_percentage                                                   \n",
       "0.30                              105.840000     1.403986e+07  11.0  26.0   \n",
       "0.31                              105.840000              NaN   9.0  26.0   \n",
       "0.32                               10.570000     1.017856e+07   0.0  27.0   \n",
       "0.45                              105.840000     0.000000e+00  14.0  27.0   \n",
       "0.64                              105.840000     1.017856e+07   9.0  25.0   \n",
       "...                                      ...              ...   ...   ...   \n",
       "74.71                             105.840000     7.080833e+10  19.0  25.0   \n",
       "74.96                              35.732308     1.031861e+10  18.0  25.0   \n",
       "75.00                             105.840000     2.824157e+10  20.0  25.0   \n",
       "75.35                             105.840000              NaN  22.0  24.0   \n",
       "75.74                             105.840000     1.117064e+10  14.0  25.0   \n",
       "\n",
       "                           month  delta_current     delta_SNR  \n",
       "hbr_time_usage_percentage                                      \n",
       "0.30                         6.0          0.054  0.000000e+00  \n",
       "0.31                         6.0          0.031  5.650000e+00  \n",
       "0.32                         6.0          0.085  1.780000e-15  \n",
       "0.45                         6.0          0.050  3.333333e-01  \n",
       "0.64                         6.0          0.062  0.000000e+00  \n",
       "...                          ...            ...           ...  \n",
       "74.71                        6.0          0.020  2.159519e+00  \n",
       "74.96                        6.0          0.016  1.519872e+00  \n",
       "75.00                        6.0          0.020  5.995069e+00  \n",
       "75.35                        6.0          0.025  8.705165e+00  \n",
       "75.74                        6.0          0.014  4.378601e+00  \n",
       "\n",
       "[518 rows x 34 columns]"
      ]
     },
     "execution_count": 155,
     "metadata": {},
     "output_type": "execute_result"
    }
   ],
   "source": [
    "dfhbr.groupby('hbr_time_usage_percentage').mean()"
   ]
  },
  {
   "cell_type": "code",
   "execution_count": 154,
   "metadata": {},
   "outputs": [
    {
     "ename": "SyntaxError",
     "evalue": "EOL while scanning string literal (<ipython-input-154-eca828168da5>, line 1)",
     "output_type": "error",
     "traceback": [
      "\u001b[0;36m  File \u001b[0;32m\"<ipython-input-154-eca828168da5>\"\u001b[0;36m, line \u001b[0;32m1\u001b[0m\n\u001b[0;31m    dfhbr.groupby('snr\u001b[0m\n\u001b[0m                      ^\u001b[0m\n\u001b[0;31mSyntaxError\u001b[0m\u001b[0;31m:\u001b[0m EOL while scanning string literal\n"
     ]
    }
   ],
   "source": [
    "dfhbr.groupby('snr"
   ]
  },
  {
   "cell_type": "code",
   "execution_count": null,
   "metadata": {},
   "outputs": [],
   "source": []
  }
 ],
 "metadata": {
  "colab": {
   "collapsed_sections": [],
   "name": "AdA_02_Pandas_Basics.ipynb",
   "provenance": [],
   "toc_visible": true
  },
  "kernelspec": {
   "display_name": "Python 3",
   "language": "python",
   "name": "python3"
  },
  "language_info": {
   "codemirror_mode": {
    "name": "ipython",
    "version": 3
   },
   "file_extension": ".py",
   "mimetype": "text/x-python",
   "name": "python",
   "nbconvert_exporter": "python",
   "pygments_lexer": "ipython3",
   "version": "3.9.2"
  }
 },
 "nbformat": 4,
 "nbformat_minor": 1
}

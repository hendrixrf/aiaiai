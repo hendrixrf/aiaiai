{
 "cells": [
  {
   "cell_type": "markdown",
   "id": "e324607e",
   "metadata": {},
   "source": [
    "# KMEANS - Implementación con numpy"
   ]
  },
  {
   "cell_type": "code",
   "execution_count": 10,
   "id": "b30df515",
   "metadata": {},
   "outputs": [
    {
     "data": {
      "text/plain": [
       "'\\nDado un dataset de m puntos y p features\\narmar k clusters\\nPara ello, \\n1- inicializo los k centroides de los clusters como tres puntos\\nal azar, será el array centroids = [ [], [], [] ]\\n2- armo k clusters, midiendo para cada un de los m puntos la distancia a cada\\nuno de los k centroides, y asignando las distancias mínimas correspondientes a cada\\ncluster. Se obtendrán tres arrays que serán los clusters.\\n3- Luego actualizar los centroides tomando los nuevos centroides como\\nla media de los clusters que se inicializaron en el paso anterior\\n4- Nuevamente rearmar los clusters basándose ahora en los nuevos centroides.\\n5- Se puede repetir N veces o hasta que converja el algoritmo. Se puede adoptar\\nel criterio de ||centroide_new - centroide_old || < epsilon\\n'"
      ]
     },
     "execution_count": 10,
     "metadata": {},
     "output_type": "execute_result"
    }
   ],
   "source": [
    "\"\"\"\n",
    "Dado un dataset de m puntos y p features\n",
    "armar k clusters\n",
    "Para ello, \n",
    "1- inicializo los k centroides de los clusters como tres puntos\n",
    "al azar, será el array centroids = [ [], [], [] ]\n",
    "2- armo k clusters, midiendo para cada un de los m puntos la distancia a cada\n",
    "uno de los k centroides, y asignando las distancias mínimas correspondientes a cada\n",
    "cluster. Se obtendrán tres arrays que serán los clusters.\n",
    "3- Luego actualizar los centroides tomando los nuevos centroides como\n",
    "la media de los clusters que se inicializaron en el paso anterior\n",
    "4- Nuevamente rearmar los clusters basándose ahora en los nuevos centroides.\n",
    "5- Se puede repetir N veces o hasta que converja el algoritmo. Se puede adoptar\n",
    "el criterio de ||centroide_new - centroide_old || < epsilon\n",
    "\"\"\"\n"
   ]
  },
  {
   "cell_type": "code",
   "execution_count": 58,
   "id": "271fed75",
   "metadata": {},
   "outputs": [],
   "source": [
    "import numpy as np\n",
    "import matplotlib.pyplot as plt\n",
    "\n",
    "np.random.seed(14)\n",
    "m = 20 #data points\n",
    "p = 2 #features\n",
    "k = 3 #clusters\n",
    "X = np.random.random((m,p))\n",
    "\n",
    "def distance(x1, x2):\n",
    "    return np.sqrt(np.sum((x1-x2)**2))"
   ]
  },
  {
   "cell_type": "code",
   "execution_count": 74,
   "id": "dc23aa65",
   "metadata": {},
   "outputs": [],
   "source": [
    "class kmeanspg:\n",
    "    def __init__(self, K=5, max_iters=100, plot_steps=False):\n",
    "        self.K = K\n",
    "        self.max_iters = max_iters\n",
    "        self.plot_steps = plot_steps\n",
    "\n",
    "        # list of sample indices for each cluster\n",
    "        self.clusters = [[] for _ in range(self.K)]\n",
    "        # the centers (mean feature vector) for each cluster\n",
    "        self.centroids = []\n",
    "        self.iterations = 0\n",
    "\n",
    "    def predict(self, X):\n",
    "        self.X = X\n",
    "        self.n_samples, self.n_features = X.shape\n",
    "\n",
    "        # initialize\n",
    "        random_sample_idxs = np.random.choice(self.n_samples, self.K, replace=False)\n",
    "        self.centroids = [self.X[idx] for idx in random_sample_idxs]\n",
    "\n",
    "        # Optimize clusters\n",
    "        for _ in range(self.max_iters):\n",
    "            self.iterations+=1\n",
    "            \n",
    "            # Assign samples to closest centroids (create clusters)\n",
    "            self.clusters = self._create_clusters(self.centroids)\n",
    "\n",
    "            if self.plot_steps:\n",
    "                self.plot()\n",
    "\n",
    "            # Calculate new centroids from the clusters\n",
    "            centroids_old = self.centroids\n",
    "            self.centroids = self._get_centroids(self.clusters)\n",
    "\n",
    "            # check if clusters have changed\n",
    "            if self._is_converged(centroids_old, self.centroids):\n",
    "                print(\"Converged at {} iteration\".format(self.iterations))\n",
    "                break\n",
    "\n",
    "            if self.plot_steps:\n",
    "                self.plot()\n",
    "\n",
    "        # Classify samples as the index of their clusters\n",
    "        return self._get_cluster_labels(self.clusters)\n",
    "\n",
    "    def _get_cluster_labels(self, clusters):\n",
    "        # each sample will get the label of the cluster it was assigned to\n",
    "        labels = np.empty(self.n_samples)\n",
    "\n",
    "        for cluster_idx, cluster in enumerate(clusters):\n",
    "            for sample_index in cluster:\n",
    "                labels[sample_index] = cluster_idx\n",
    "        return labels\n",
    "\n",
    "    def _create_clusters(self, centroids):\n",
    "        # Assign the samples to the closest centroids to create clusters\n",
    "        clusters = [[] for _ in range(self.K)]\n",
    "        for idx, sample in enumerate(self.X):\n",
    "            centroid_idx = self._closest_centroid(sample, centroids)\n",
    "            clusters[centroid_idx].append(idx)\n",
    "        return clusters\n",
    "\n",
    "    def _closest_centroid(self, sample, centroids):\n",
    "        # distance of the current sample to each centroid\n",
    "        distances = [distance(sample, point) for point in centroids]\n",
    "        closest_index = np.argmin(distances)\n",
    "        return closest_index\n",
    "\n",
    "    def _get_centroids(self, clusters):\n",
    "        # assign mean value of clusters to centroids\n",
    "        centroids = np.zeros((self.K, self.n_features))\n",
    "        for cluster_idx, cluster in enumerate(clusters):\n",
    "            cluster_mean = np.mean(self.X[cluster], axis=0)\n",
    "            centroids[cluster_idx] = cluster_mean\n",
    "        return centroids\n",
    "\n",
    "    def _is_converged(self, centroids_old, centroids):\n",
    "        # distances between each old and new centroids, fol all centroids\n",
    "        distances = [\n",
    "            distance(centroids_old[i], centroids[i]) for i in range(self.K)\n",
    "        ]\n",
    "        return sum(distances) == 0\n",
    "\n",
    "    def plot(self):\n",
    "        fig, ax = plt.subplots(figsize=(12, 8))\n",
    "\n",
    "        for i, index in enumerate(self.clusters):\n",
    "            point = self.X[index].T\n",
    "            ax.scatter(*point)\n",
    "\n",
    "        for point in self.centroids:\n",
    "            ax.scatter(*point, marker=\"x\", color=\"black\", linewidth=2)\n",
    "\n",
    "        plt.show()"
   ]
  },
  {
   "cell_type": "code",
   "execution_count": 79,
   "id": "e2824573",
   "metadata": {},
   "outputs": [
    {
     "name": "stdout",
     "output_type": "stream",
     "text": [
      "Converged at 5 iteration\n"
     ]
    }
   ],
   "source": [
    "k = kmeanspg(K=3, max_iters=100, plot_steps=False)\n",
    "y_pred = k.predict(X)"
   ]
  }
 ],
 "metadata": {
  "kernelspec": {
   "display_name": "Python 3",
   "language": "python",
   "name": "python3"
  },
  "language_info": {
   "codemirror_mode": {
    "name": "ipython",
    "version": 3
   },
   "file_extension": ".py",
   "mimetype": "text/x-python",
   "name": "python",
   "nbconvert_exporter": "python",
   "pygments_lexer": "ipython3",
   "version": "3.9.2"
  }
 },
 "nbformat": 4,
 "nbformat_minor": 5
}

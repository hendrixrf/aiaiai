{
 "cells": [
  {
   "cell_type": "markdown",
   "metadata": {},
   "source": [
    "# Implementación de PCA en NumPy"
   ]
  },
  {
   "cell_type": "markdown",
   "metadata": {},
   "source": [
    "## Objetivos\n",
    "* Implementación de PCA en NumPy paso a paso\n",
    "* Comparación de resultados con Scikit-learn"
   ]
  },
  {
   "cell_type": "markdown",
   "metadata": {},
   "source": [
    "## Implementación"
   ]
  },
  {
   "cell_type": "markdown",
   "metadata": {},
   "source": [
    "1. Dado un dataset $X \\in \\mathbb{R}^{n, d}$, con $n$ muestras y $d$ features, queremos reducir sus dimensiones a $m$ (< $d$). Para ello, el primer paso es centrar el dataset (Hint: usen np.mean)"
   ]
  },
  {
   "cell_type": "code",
   "execution_count": 74,
   "metadata": {},
   "outputs": [],
   "source": [
    "import numpy as np\n",
    "\n",
    "X = np.array([[0.8, 0.7], [0.1, -0.1]])\n",
    "X.mean()\n",
    "X_centered = X - X.mean()"
   ]
  },
  {
   "cell_type": "markdown",
   "metadata": {},
   "source": [
    "2. Obtener la matriz de covarianza de $X^T$, revisar en la teoría por qué utilizamos la transpuesta. Buscar en la documentación de NumPy qué funciones se pueden utilizar."
   ]
  },
  {
   "cell_type": "code",
   "execution_count": 75,
   "metadata": {},
   "outputs": [],
   "source": [
    "C = np.cov(X_centered.T)"
   ]
  },
  {
   "cell_type": "markdown",
   "metadata": {},
   "source": [
    "3. Calcular los autovalores y autovectores de la matriz de covarianza. Revisar la documentación de NumPy."
   ]
  },
  {
   "attachments": {
    "image.png": {
     "image/png": "[encoded data removed]"
    }
   },
   "cell_type": "markdown",
   "metadata": {},
   "source": [
    "Ej.: \n",
    "\n",
    "`np.linalg.eig(X)` resulta:\n",
    "\n",
    "![image.png](attachment:image.png)"
   ]
  },
  {
   "cell_type": "code",
   "execution_count": 76,
   "metadata": {},
   "outputs": [],
   "source": [
    "# Ahora calculamos los avas y aves de la matriz de covarianza\n",
    "avas, aves = np.linalg.eig(C)"
   ]
  },
  {
   "cell_type": "markdown",
   "metadata": {},
   "source": [
    "4. Ordenar los autovectores en el sentido de los autovalores decrecientes, revisar la teoría de ser necesario.\n",
    "\n",
    "\n"
   ]
  },
  {
   "cell_type": "code",
   "execution_count": 80,
   "metadata": {},
   "outputs": [
    {
     "data": {
      "text/plain": [
       "array([[-0.75257669, -0.65850461]])"
      ]
     },
     "execution_count": 80,
     "metadata": {},
     "output_type": "execute_result"
    }
   ],
   "source": [
    "indexes = np.argsort(avas)[::-1]\n",
    "aves = aves.T\n",
    "aves_sorted = aves[0:1]\n",
    "\n",
    "aves_sorted"
   ]
  },
  {
   "cell_type": "markdown",
   "metadata": {},
   "source": [
    "5. Proyectar el dataset centrado sobre los $m$ autovectores más relevantes (Hint: usen np.dot)."
   ]
  },
  {
   "cell_type": "code",
   "execution_count": 84,
   "metadata": {},
   "outputs": [
    {
     "data": {
      "text/plain": [
       "array([[-0.53385909],\n",
       "       [ 0.51974828]])"
      ]
     },
     "execution_count": 84,
     "metadata": {},
     "output_type": "execute_result"
    }
   ],
   "source": [
    "np.dot(X_centered, aves_sorted.T)\n"
   ]
  },
  {
   "cell_type": "markdown",
   "metadata": {},
   "source": [
    "6. Consolidar los pasos anteriores en una función o clase PCA."
   ]
  },
  {
   "cell_type": "code",
   "execution_count": 94,
   "metadata": {},
   "outputs": [
    {
     "name": "stdout",
     "output_type": "stream",
     "text": [
      "[[-0.53150729]\n",
      " [ 0.53150729]]\n"
     ]
    }
   ],
   "source": [
    "class PCA_Pablo:\n",
    "    \n",
    "    def __init__(self, n_components=2):\n",
    "        self.n_components = n_components\n",
    "        self.components = None\n",
    "        self.mean = None\n",
    "        \n",
    "    def fit(self, X):       \n",
    "        # Step 1: mean\n",
    "        X = X - np.mean(X)\n",
    "        \n",
    "        # Step 2: covariance matrix\n",
    "        C = np.cov(X.T)\n",
    "        \n",
    "        # Step 3: avas and aves from the covariance matrix\n",
    "        avas, aves = np.linalg.eig(C)\n",
    "        \n",
    "        # Step 4: sort in decreasing order the aves\n",
    "        indexes = np.argsort(avas)[::-1]\n",
    "        \n",
    "        # Step 5: store first n aves (must transpose first)\n",
    "        aves = aves.T\n",
    "        self.components = aves[indexes][0:self.n_components]\n",
    "                \n",
    "    def transform(self, X):\n",
    "        # Step 1: center again the dataset\n",
    "        X = X - np.mean(X)\n",
    "        \n",
    "        # Step 2: project X over the components\n",
    "        # we transpose the components again in order to match\n",
    "        # the dot product dimensions\n",
    "        return np.dot(X, self.components.T)\n",
    "\n",
    "def main():\n",
    "    X = np.array([[0.8, 0.7],[0.1,-0.1]])\n",
    "    p = PCA(n_components=1)\n",
    "    p.fit(X)\n",
    "    X_proj = p.transform(X)\n",
    "    print(X_proj)\n",
    "    \n",
    "main()\n",
    "        "
   ]
  },
  {
   "cell_type": "markdown",
   "metadata": {},
   "source": [
    "7. Comparar los resultados obtenidos con el modelo de PCA implementado en Scikit-learn ([ver documentación](https://scikit-learn.org/stable/modules/generated/sklearn.decomposition.PCA.html)). Tomar como dataset:\n",
    "\n",
    "$X=\\begin{bmatrix}\n",
    "0.8 & 0.7\\\\\n",
    "0.1 & -0.1\n",
    "\\end{bmatrix}$\n",
    "\n",
    "Se debe reducir a un componente. Verificar los resultados con np.testing.assert_allclose"
   ]
  },
  {
   "cell_type": "code",
   "execution_count": 97,
   "metadata": {},
   "outputs": [
    {
     "name": "stdout",
     "output_type": "stream",
     "text": [
      "[[-0.53150729]\n",
      " [ 0.53150729]]\n",
      "[[-0.52445188]\n",
      " [ 0.5385627 ]]\n"
     ]
    }
   ],
   "source": [
    "import numpy as np\n",
    "from sklearn.decomposition import PCA\n",
    "\n",
    "X = np.array([[0.8, 0.7],[0.1,-0.1]])\n",
    "\n",
    "# sklearn's PCA implementation\n",
    "pca = PCA(n_components=1)\n",
    "pca.fit(X)\n",
    "X_proj = pca.transform(X)\n",
    "print(X_proj)\n",
    "\n",
    "# Homemade PCA implementation\n",
    "pca_pablo = PCA_Pablo(n_components=1)\n",
    "pca_pablo.fit(X)\n",
    "X_proj_pablo = pca_pablo.transform(X)\n",
    "print(X_proj_pablo)\n",
    "\n",
    "np.testing.assert_allclose(X_proj, X_proj_pablo, rtol=0.2)\n"
   ]
  },
  {
   "cell_type": "markdown",
   "metadata": {},
   "source": [
    "# Bibliography\n",
    "\n",
    "https://jakevdp.github.io/PythonDataScienceHandbook/05.09-principal-component-analysis.html\n",
    "\n",
    "https://www.youtube.com/watch?v=52d7ha-GdV8\n",
    "\n"
   ]
  },
  {
   "cell_type": "code",
   "execution_count": null,
   "metadata": {},
   "outputs": [],
   "source": []
  }
 ],
 "metadata": {
  "kernelspec": {
   "display_name": "Python 3",
   "language": "python",
   "name": "python3"
  },
  "language_info": {
   "codemirror_mode": {
    "name": "ipython",
    "version": 3
   },
   "file_extension": ".py",
   "mimetype": "text/x-python",
   "name": "python",
   "nbconvert_exporter": "python",
   "pygments_lexer": "ipython3",
   "version": "3.9.2"
  }
 },
 "nbformat": 4,
 "nbformat_minor": 4
}

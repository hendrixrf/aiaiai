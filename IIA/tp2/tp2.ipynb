{
 "cells": [
  {
   "cell_type": "markdown",
   "id": "27719223",
   "metadata": {},
   "source": [
    "\n",
    "# Trabajo Práctico 2"
   ]
  },
  {
   "cell_type": "markdown",
   "id": "461d011d",
   "metadata": {},
   "source": [
    "\n",
    "Descargar el dataset **Facebook comment volume** https://archive.ics.uci.edu/ml/datasets/Facebook+Comment+Volume+Dataset. \n",
    "\n",
    "El dataset tiene diferentes versiones, utilizaremos la **número 5** para train y para test **Features_TestSet**. \n",
    "\n",
    "Notar que trae **carpeta de train y de test**. \n",
    "\n",
    "Una descripción completa del dataset pueden encontrarla en el link. Se trata de publicaciones de Facebook y se quiere **predecir la columna 54: cantidad de comentarios en las próximas H horas\"**.\n",
    "\n",
    "El dataset contiene variables en muchos formatos diferentes, algunos de los cuales no hemos trabajado o no lo hemos hechos en profundidad. Esas variables pueden ser descartadas o bien hacer una investigación personal para ver de qué manera poder incluirlas para mejorar los resultados obtenidos.\n",
    "\n"
   ]
  },
  {
   "cell_type": "markdown",
   "id": "5a976dd3",
   "metadata": {},
   "source": [
    "# Importar librerías\n",
    "\n",
    "Importar aquellas librerías que serán utilizadas en el trabajo."
   ]
  },
  {
   "cell_type": "code",
   "execution_count": 2,
   "id": "845b6c50",
   "metadata": {},
   "outputs": [],
   "source": [
    "import pandas as pd"
   ]
  },
  {
   "cell_type": "markdown",
   "id": "954111ce",
   "metadata": {},
   "source": [
    "# Cargar datos\n",
    "Cargar los datos de entrenamiento."
   ]
  },
  {
   "cell_type": "code",
   "execution_count": 3,
   "id": "26f41c45",
   "metadata": {},
   "outputs": [],
   "source": [
    "train = pd.read_csv(\"data/Features_Variant_5.csv\", header=None)\n",
    "test = pd.read_csv(\"data/Test_Case_5.csv\", header=None)"
   ]
  },
  {
   "cell_type": "code",
   "execution_count": 4,
   "id": "73608dbb",
   "metadata": {},
   "outputs": [
    {
     "data": {
      "text/html": [
       "<div>\n",
       "<style scoped>\n",
       "    .dataframe tbody tr th:only-of-type {\n",
       "        vertical-align: middle;\n",
       "    }\n",
       "\n",
       "    .dataframe tbody tr th {\n",
       "        vertical-align: top;\n",
       "    }\n",
       "\n",
       "    .dataframe thead th {\n",
       "        text-align: right;\n",
       "    }\n",
       "</style>\n",
       "<table border=\"1\" class=\"dataframe\">\n",
       "  <thead>\n",
       "    <tr style=\"text-align: right;\">\n",
       "      <th></th>\n",
       "      <th>0</th>\n",
       "      <th>1</th>\n",
       "      <th>2</th>\n",
       "      <th>3</th>\n",
       "      <th>4</th>\n",
       "      <th>5</th>\n",
       "      <th>6</th>\n",
       "      <th>7</th>\n",
       "      <th>8</th>\n",
       "      <th>9</th>\n",
       "      <th>...</th>\n",
       "      <th>44</th>\n",
       "      <th>45</th>\n",
       "      <th>46</th>\n",
       "      <th>47</th>\n",
       "      <th>48</th>\n",
       "      <th>49</th>\n",
       "      <th>50</th>\n",
       "      <th>51</th>\n",
       "      <th>52</th>\n",
       "      <th>53</th>\n",
       "    </tr>\n",
       "  </thead>\n",
       "  <tbody>\n",
       "    <tr>\n",
       "      <th>0</th>\n",
       "      <td>634995</td>\n",
       "      <td>0</td>\n",
       "      <td>463</td>\n",
       "      <td>1</td>\n",
       "      <td>0.0</td>\n",
       "      <td>1280.0</td>\n",
       "      <td>13.158779</td>\n",
       "      <td>1.0</td>\n",
       "      <td>94.99364</td>\n",
       "      <td>0.0</td>\n",
       "      <td>...</td>\n",
       "      <td>0</td>\n",
       "      <td>0</td>\n",
       "      <td>0</td>\n",
       "      <td>0</td>\n",
       "      <td>0</td>\n",
       "      <td>0</td>\n",
       "      <td>1</td>\n",
       "      <td>0</td>\n",
       "      <td>0</td>\n",
       "      <td>0</td>\n",
       "    </tr>\n",
       "    <tr>\n",
       "      <th>1</th>\n",
       "      <td>634995</td>\n",
       "      <td>0</td>\n",
       "      <td>463</td>\n",
       "      <td>1</td>\n",
       "      <td>0.0</td>\n",
       "      <td>1280.0</td>\n",
       "      <td>13.158779</td>\n",
       "      <td>1.0</td>\n",
       "      <td>94.99364</td>\n",
       "      <td>0.0</td>\n",
       "      <td>...</td>\n",
       "      <td>0</td>\n",
       "      <td>0</td>\n",
       "      <td>1</td>\n",
       "      <td>0</td>\n",
       "      <td>0</td>\n",
       "      <td>0</td>\n",
       "      <td>0</td>\n",
       "      <td>0</td>\n",
       "      <td>0</td>\n",
       "      <td>0</td>\n",
       "    </tr>\n",
       "    <tr>\n",
       "      <th>2</th>\n",
       "      <td>634995</td>\n",
       "      <td>0</td>\n",
       "      <td>463</td>\n",
       "      <td>1</td>\n",
       "      <td>0.0</td>\n",
       "      <td>1280.0</td>\n",
       "      <td>13.158779</td>\n",
       "      <td>1.0</td>\n",
       "      <td>94.99364</td>\n",
       "      <td>0.0</td>\n",
       "      <td>...</td>\n",
       "      <td>1</td>\n",
       "      <td>0</td>\n",
       "      <td>0</td>\n",
       "      <td>0</td>\n",
       "      <td>0</td>\n",
       "      <td>0</td>\n",
       "      <td>0</td>\n",
       "      <td>0</td>\n",
       "      <td>1</td>\n",
       "      <td>0</td>\n",
       "    </tr>\n",
       "    <tr>\n",
       "      <th>3</th>\n",
       "      <td>634995</td>\n",
       "      <td>0</td>\n",
       "      <td>463</td>\n",
       "      <td>1</td>\n",
       "      <td>0.0</td>\n",
       "      <td>1280.0</td>\n",
       "      <td>13.158779</td>\n",
       "      <td>1.0</td>\n",
       "      <td>94.99364</td>\n",
       "      <td>0.0</td>\n",
       "      <td>...</td>\n",
       "      <td>1</td>\n",
       "      <td>0</td>\n",
       "      <td>0</td>\n",
       "      <td>1</td>\n",
       "      <td>0</td>\n",
       "      <td>0</td>\n",
       "      <td>0</td>\n",
       "      <td>0</td>\n",
       "      <td>0</td>\n",
       "      <td>0</td>\n",
       "    </tr>\n",
       "    <tr>\n",
       "      <th>4</th>\n",
       "      <td>634995</td>\n",
       "      <td>0</td>\n",
       "      <td>463</td>\n",
       "      <td>1</td>\n",
       "      <td>0.0</td>\n",
       "      <td>1280.0</td>\n",
       "      <td>13.158779</td>\n",
       "      <td>1.0</td>\n",
       "      <td>94.99364</td>\n",
       "      <td>0.0</td>\n",
       "      <td>...</td>\n",
       "      <td>0</td>\n",
       "      <td>0</td>\n",
       "      <td>0</td>\n",
       "      <td>0</td>\n",
       "      <td>0</td>\n",
       "      <td>0</td>\n",
       "      <td>1</td>\n",
       "      <td>0</td>\n",
       "      <td>0</td>\n",
       "      <td>0</td>\n",
       "    </tr>\n",
       "  </tbody>\n",
       "</table>\n",
       "<p>5 rows × 54 columns</p>\n",
       "</div>"
      ],
      "text/plain": [
       "       0   1    2   3    4       5          6    7         8    9   ...  44  \\\n",
       "0  634995   0  463   1  0.0  1280.0  13.158779  1.0  94.99364  0.0  ...   0   \n",
       "1  634995   0  463   1  0.0  1280.0  13.158779  1.0  94.99364  0.0  ...   0   \n",
       "2  634995   0  463   1  0.0  1280.0  13.158779  1.0  94.99364  0.0  ...   1   \n",
       "3  634995   0  463   1  0.0  1280.0  13.158779  1.0  94.99364  0.0  ...   1   \n",
       "4  634995   0  463   1  0.0  1280.0  13.158779  1.0  94.99364  0.0  ...   0   \n",
       "\n",
       "   45  46  47  48  49  50  51  52  53  \n",
       "0   0   0   0   0   0   1   0   0   0  \n",
       "1   0   1   0   0   0   0   0   0   0  \n",
       "2   0   0   0   0   0   0   0   1   0  \n",
       "3   0   0   1   0   0   0   0   0   0  \n",
       "4   0   0   0   0   0   1   0   0   0  \n",
       "\n",
       "[5 rows x 54 columns]"
      ]
     },
     "execution_count": 4,
     "metadata": {},
     "output_type": "execute_result"
    }
   ],
   "source": [
    "train.head()"
   ]
  },
  {
   "cell_type": "markdown",
   "id": "c93000bd",
   "metadata": {},
   "source": [
    "# Análisis exploratorio básico y preprocesamiento de los datos\n",
    "\n",
    "Análisis de los datos para conocer los mismos, ver datos faltantes, decidir cómo tratarlos, ver distribuciones, relaciones, etc. Procesar los datos centrándolos, reescalando, codificando, reduciendo dimensiones, etc. según considere necesario. "
   ]
  },
  {
   "cell_type": "markdown",
   "id": "606e1eb1",
   "metadata": {},
   "source": [
    "**NOTA PABLO GAMEZ**: El objetivo de esta etapa es ver si podemos reducir el número de features de acuerdo a una serie de criterios."
   ]
  },
  {
   "cell_type": "code",
   "execution_count": 5,
   "id": "b66211cd",
   "metadata": {},
   "outputs": [
    {
     "data": {
      "text/html": [
       "<div>\n",
       "<style scoped>\n",
       "    .dataframe tbody tr th:only-of-type {\n",
       "        vertical-align: middle;\n",
       "    }\n",
       "\n",
       "    .dataframe tbody tr th {\n",
       "        vertical-align: top;\n",
       "    }\n",
       "\n",
       "    .dataframe thead th {\n",
       "        text-align: right;\n",
       "    }\n",
       "</style>\n",
       "<table border=\"1\" class=\"dataframe\">\n",
       "  <thead>\n",
       "    <tr style=\"text-align: right;\">\n",
       "      <th></th>\n",
       "      <th>0</th>\n",
       "      <th>1</th>\n",
       "      <th>2</th>\n",
       "      <th>3</th>\n",
       "      <th>4</th>\n",
       "      <th>5</th>\n",
       "      <th>6</th>\n",
       "      <th>7</th>\n",
       "      <th>8</th>\n",
       "      <th>9</th>\n",
       "      <th>...</th>\n",
       "      <th>44</th>\n",
       "      <th>45</th>\n",
       "      <th>46</th>\n",
       "      <th>47</th>\n",
       "      <th>48</th>\n",
       "      <th>49</th>\n",
       "      <th>50</th>\n",
       "      <th>51</th>\n",
       "      <th>52</th>\n",
       "      <th>53</th>\n",
       "    </tr>\n",
       "  </thead>\n",
       "  <tbody>\n",
       "    <tr>\n",
       "      <th>count</th>\n",
       "      <td>1.990300e+05</td>\n",
       "      <td>199030.000000</td>\n",
       "      <td>1.990300e+05</td>\n",
       "      <td>199030.000000</td>\n",
       "      <td>199030.000000</td>\n",
       "      <td>199030.000000</td>\n",
       "      <td>199030.000000</td>\n",
       "      <td>199030.000000</td>\n",
       "      <td>199030.000000</td>\n",
       "      <td>199030.000000</td>\n",
       "      <td>...</td>\n",
       "      <td>199030.000000</td>\n",
       "      <td>199030.000000</td>\n",
       "      <td>199030.000000</td>\n",
       "      <td>199030.000000</td>\n",
       "      <td>199030.000000</td>\n",
       "      <td>199030.000000</td>\n",
       "      <td>199030.000000</td>\n",
       "      <td>199030.000000</td>\n",
       "      <td>199030.00000</td>\n",
       "      <td>199030.000000</td>\n",
       "    </tr>\n",
       "    <tr>\n",
       "      <th>mean</th>\n",
       "      <td>1.313785e+06</td>\n",
       "      <td>4674.517731</td>\n",
       "      <td>4.477173e+04</td>\n",
       "      <td>24.242074</td>\n",
       "      <td>0.470256</td>\n",
       "      <td>485.317656</td>\n",
       "      <td>55.901120</td>\n",
       "      <td>35.263538</td>\n",
       "      <td>68.090731</td>\n",
       "      <td>0.068135</td>\n",
       "      <td>...</td>\n",
       "      <td>0.146209</td>\n",
       "      <td>0.136954</td>\n",
       "      <td>0.139391</td>\n",
       "      <td>0.134829</td>\n",
       "      <td>0.136788</td>\n",
       "      <td>0.147088</td>\n",
       "      <td>0.155298</td>\n",
       "      <td>0.144245</td>\n",
       "      <td>0.14236</td>\n",
       "      <td>7.168708</td>\n",
       "    </tr>\n",
       "    <tr>\n",
       "      <th>std</th>\n",
       "      <td>6.771131e+06</td>\n",
       "      <td>20573.440641</td>\n",
       "      <td>1.108983e+05</td>\n",
       "      <td>19.935334</td>\n",
       "      <td>13.178067</td>\n",
       "      <td>538.194418</td>\n",
       "      <td>86.515496</td>\n",
       "      <td>68.162671</td>\n",
       "      <td>82.411057</td>\n",
       "      <td>2.172591</td>\n",
       "      <td>...</td>\n",
       "      <td>0.353317</td>\n",
       "      <td>0.343800</td>\n",
       "      <td>0.346355</td>\n",
       "      <td>0.341542</td>\n",
       "      <td>0.343625</td>\n",
       "      <td>0.354195</td>\n",
       "      <td>0.362190</td>\n",
       "      <td>0.351338</td>\n",
       "      <td>0.34942</td>\n",
       "      <td>34.298193</td>\n",
       "    </tr>\n",
       "    <tr>\n",
       "      <th>min</th>\n",
       "      <td>3.600000e+01</td>\n",
       "      <td>0.000000</td>\n",
       "      <td>0.000000e+00</td>\n",
       "      <td>1.000000</td>\n",
       "      <td>0.000000</td>\n",
       "      <td>0.000000</td>\n",
       "      <td>0.000000</td>\n",
       "      <td>0.000000</td>\n",
       "      <td>0.000000</td>\n",
       "      <td>0.000000</td>\n",
       "      <td>...</td>\n",
       "      <td>0.000000</td>\n",
       "      <td>0.000000</td>\n",
       "      <td>0.000000</td>\n",
       "      <td>0.000000</td>\n",
       "      <td>0.000000</td>\n",
       "      <td>0.000000</td>\n",
       "      <td>0.000000</td>\n",
       "      <td>0.000000</td>\n",
       "      <td>0.00000</td>\n",
       "      <td>0.000000</td>\n",
       "    </tr>\n",
       "    <tr>\n",
       "      <th>25%</th>\n",
       "      <td>3.673400e+04</td>\n",
       "      <td>0.000000</td>\n",
       "      <td>6.980000e+02</td>\n",
       "      <td>9.000000</td>\n",
       "      <td>0.000000</td>\n",
       "      <td>49.000000</td>\n",
       "      <td>5.494737</td>\n",
       "      <td>2.000000</td>\n",
       "      <td>8.033255</td>\n",
       "      <td>0.000000</td>\n",
       "      <td>...</td>\n",
       "      <td>0.000000</td>\n",
       "      <td>0.000000</td>\n",
       "      <td>0.000000</td>\n",
       "      <td>0.000000</td>\n",
       "      <td>0.000000</td>\n",
       "      <td>0.000000</td>\n",
       "      <td>0.000000</td>\n",
       "      <td>0.000000</td>\n",
       "      <td>0.00000</td>\n",
       "      <td>0.000000</td>\n",
       "    </tr>\n",
       "    <tr>\n",
       "      <th>50%</th>\n",
       "      <td>2.929110e+05</td>\n",
       "      <td>0.000000</td>\n",
       "      <td>7.237000e+03</td>\n",
       "      <td>18.000000</td>\n",
       "      <td>0.000000</td>\n",
       "      <td>256.000000</td>\n",
       "      <td>23.647407</td>\n",
       "      <td>12.000000</td>\n",
       "      <td>35.022296</td>\n",
       "      <td>0.000000</td>\n",
       "      <td>...</td>\n",
       "      <td>0.000000</td>\n",
       "      <td>0.000000</td>\n",
       "      <td>0.000000</td>\n",
       "      <td>0.000000</td>\n",
       "      <td>0.000000</td>\n",
       "      <td>0.000000</td>\n",
       "      <td>0.000000</td>\n",
       "      <td>0.000000</td>\n",
       "      <td>0.00000</td>\n",
       "      <td>0.000000</td>\n",
       "    </tr>\n",
       "    <tr>\n",
       "      <th>75%</th>\n",
       "      <td>1.204214e+06</td>\n",
       "      <td>99.000000</td>\n",
       "      <td>5.026400e+04</td>\n",
       "      <td>32.000000</td>\n",
       "      <td>0.000000</td>\n",
       "      <td>784.000000</td>\n",
       "      <td>70.931961</td>\n",
       "      <td>41.000000</td>\n",
       "      <td>104.152684</td>\n",
       "      <td>0.000000</td>\n",
       "      <td>...</td>\n",
       "      <td>0.000000</td>\n",
       "      <td>0.000000</td>\n",
       "      <td>0.000000</td>\n",
       "      <td>0.000000</td>\n",
       "      <td>0.000000</td>\n",
       "      <td>0.000000</td>\n",
       "      <td>0.000000</td>\n",
       "      <td>0.000000</td>\n",
       "      <td>0.00000</td>\n",
       "      <td>3.000000</td>\n",
       "    </tr>\n",
       "    <tr>\n",
       "      <th>max</th>\n",
       "      <td>4.869723e+08</td>\n",
       "      <td>186370.000000</td>\n",
       "      <td>6.089942e+06</td>\n",
       "      <td>106.000000</td>\n",
       "      <td>1458.000000</td>\n",
       "      <td>2495.000000</td>\n",
       "      <td>2031.000000</td>\n",
       "      <td>2123.000000</td>\n",
       "      <td>762.357746</td>\n",
       "      <td>227.000000</td>\n",
       "      <td>...</td>\n",
       "      <td>1.000000</td>\n",
       "      <td>1.000000</td>\n",
       "      <td>1.000000</td>\n",
       "      <td>1.000000</td>\n",
       "      <td>1.000000</td>\n",
       "      <td>1.000000</td>\n",
       "      <td>1.000000</td>\n",
       "      <td>1.000000</td>\n",
       "      <td>1.00000</td>\n",
       "      <td>1702.000000</td>\n",
       "    </tr>\n",
       "  </tbody>\n",
       "</table>\n",
       "<p>8 rows × 54 columns</p>\n",
       "</div>"
      ],
      "text/plain": [
       "                 0              1             2              3   \\\n",
       "count  1.990300e+05  199030.000000  1.990300e+05  199030.000000   \n",
       "mean   1.313785e+06    4674.517731  4.477173e+04      24.242074   \n",
       "std    6.771131e+06   20573.440641  1.108983e+05      19.935334   \n",
       "min    3.600000e+01       0.000000  0.000000e+00       1.000000   \n",
       "25%    3.673400e+04       0.000000  6.980000e+02       9.000000   \n",
       "50%    2.929110e+05       0.000000  7.237000e+03      18.000000   \n",
       "75%    1.204214e+06      99.000000  5.026400e+04      32.000000   \n",
       "max    4.869723e+08  186370.000000  6.089942e+06     106.000000   \n",
       "\n",
       "                  4              5              6              7   \\\n",
       "count  199030.000000  199030.000000  199030.000000  199030.000000   \n",
       "mean        0.470256     485.317656      55.901120      35.263538   \n",
       "std        13.178067     538.194418      86.515496      68.162671   \n",
       "min         0.000000       0.000000       0.000000       0.000000   \n",
       "25%         0.000000      49.000000       5.494737       2.000000   \n",
       "50%         0.000000     256.000000      23.647407      12.000000   \n",
       "75%         0.000000     784.000000      70.931961      41.000000   \n",
       "max      1458.000000    2495.000000    2031.000000    2123.000000   \n",
       "\n",
       "                  8              9   ...             44             45  \\\n",
       "count  199030.000000  199030.000000  ...  199030.000000  199030.000000   \n",
       "mean       68.090731       0.068135  ...       0.146209       0.136954   \n",
       "std        82.411057       2.172591  ...       0.353317       0.343800   \n",
       "min         0.000000       0.000000  ...       0.000000       0.000000   \n",
       "25%         8.033255       0.000000  ...       0.000000       0.000000   \n",
       "50%        35.022296       0.000000  ...       0.000000       0.000000   \n",
       "75%       104.152684       0.000000  ...       0.000000       0.000000   \n",
       "max       762.357746     227.000000  ...       1.000000       1.000000   \n",
       "\n",
       "                  46             47             48             49  \\\n",
       "count  199030.000000  199030.000000  199030.000000  199030.000000   \n",
       "mean        0.139391       0.134829       0.136788       0.147088   \n",
       "std         0.346355       0.341542       0.343625       0.354195   \n",
       "min         0.000000       0.000000       0.000000       0.000000   \n",
       "25%         0.000000       0.000000       0.000000       0.000000   \n",
       "50%         0.000000       0.000000       0.000000       0.000000   \n",
       "75%         0.000000       0.000000       0.000000       0.000000   \n",
       "max         1.000000       1.000000       1.000000       1.000000   \n",
       "\n",
       "                  50             51            52             53  \n",
       "count  199030.000000  199030.000000  199030.00000  199030.000000  \n",
       "mean        0.155298       0.144245       0.14236       7.168708  \n",
       "std         0.362190       0.351338       0.34942      34.298193  \n",
       "min         0.000000       0.000000       0.00000       0.000000  \n",
       "25%         0.000000       0.000000       0.00000       0.000000  \n",
       "50%         0.000000       0.000000       0.00000       0.000000  \n",
       "75%         0.000000       0.000000       0.00000       3.000000  \n",
       "max         1.000000       1.000000       1.00000    1702.000000  \n",
       "\n",
       "[8 rows x 54 columns]"
      ]
     },
     "execution_count": 5,
     "metadata": {},
     "output_type": "execute_result"
    }
   ],
   "source": [
    "train.describe()"
   ]
  },
  {
   "cell_type": "code",
   "execution_count": 6,
   "id": "e9fb1247",
   "metadata": {},
   "outputs": [
    {
     "data": {
      "text/plain": [
       "<AxesSubplot:>"
      ]
     },
     "execution_count": 6,
     "metadata": {},
     "output_type": "execute_result"
    },
    {
     "data": {
      "image/png": "[encoded data removed]",
      "text/plain": [
       "<Figure size 720x720 with 2 Axes>"
      ]
     },
     "metadata": {
      "needs_background": "light"
     },
     "output_type": "display_data"
    }
   ],
   "source": [
    "import seaborn as sns\n",
    "import matplotlib.pyplot as plt\n",
    "\n",
    "train_corr_matrix = train.corr()\n",
    "fig, ax = plt.subplots(figsize=(10, 10))\n",
    "sns.heatmap(train_corr_matrix)"
   ]
  },
  {
   "cell_type": "markdown",
   "id": "59cb0598",
   "metadata": {},
   "source": [
    "Dos observaciones:\n",
    "\n",
    "- Vemos que la columna 37 exhibe un valor de correlación distinta a las demás y que es muy claro, lo que indica que está cercano a 1. Analizaremos esta columna ya que aparenta tener nulos\n",
    "\n",
    "- Asimismo eliminaremos columnas cuya correlación con respecto a la columna de la variable target sea > 0.8 a efectos de reducir el número de features\n"
   ]
  },
  {
   "cell_type": "code",
   "execution_count": 7,
   "id": "4a40c617",
   "metadata": {},
   "outputs": [
    {
     "name": "stdout",
     "output_type": "stream",
     "text": [
      "La columna 37 tiene todos sus valores nulos\n"
     ]
    }
   ],
   "source": [
    "if(train[37]==0).all():\n",
    "    print(\"La columna 37 tiene todos sus valores nulos\")\n"
   ]
  },
  {
   "cell_type": "markdown",
   "id": "ba25ac41",
   "metadata": {},
   "source": [
    "Por lo tanto, descartamos la columna en cuestión"
   ]
  },
  {
   "cell_type": "code",
   "execution_count": 8,
   "id": "0b80109f",
   "metadata": {},
   "outputs": [],
   "source": [
    "train_trim = train.drop(37, axis=1)"
   ]
  },
  {
   "cell_type": "markdown",
   "id": "58aa3d35",
   "metadata": {},
   "source": [
    "Analicemos ahora las correlaciones con respecto a la columna 53, para observar valores de correlación mayores a 0.8"
   ]
  },
  {
   "cell_type": "code",
   "execution_count": 9,
   "id": "36db38ad",
   "metadata": {},
   "outputs": [
    {
     "data": {
      "text/plain": [
       "0     0.064537\n",
       "1     0.035152\n",
       "2     0.194768\n",
       "3     0.069001\n",
       "4     0.138996\n",
       "5     0.238743\n",
       "6     0.359536\n",
       "7     0.349452\n",
       "8     0.316593\n",
       "9     0.153853\n",
       "10    0.229139\n",
       "11    0.368003\n",
       "12    0.339229\n",
       "13    0.329067\n",
       "14    0.004411\n",
       "15    0.234408\n",
       "16    0.356985\n",
       "17    0.303185\n",
       "18    0.333375\n",
       "19    0.139476\n",
       "20    0.232497\n",
       "21    0.356769\n",
       "22    0.348033\n",
       "23    0.309988\n",
       "24    0.221228\n",
       "25    0.230101\n",
       "26    0.192558\n",
       "27    0.065052\n",
       "28    0.339319\n",
       "29    0.327086\n",
       "30    0.545260\n",
       "31    0.073260\n",
       "32    0.342653\n",
       "33    0.375318\n",
       "34    0.224366\n",
       "35    0.001237\n",
       "36    0.124638\n",
       "38    0.012255\n",
       "39    0.000587\n",
       "40    0.000575\n",
       "41    0.004769\n",
       "42    0.022337\n",
       "43    0.009496\n",
       "44    0.010470\n",
       "45    0.008114\n",
       "46    0.008700\n",
       "47    0.003049\n",
       "48    0.004611\n",
       "49    0.023267\n",
       "50    0.000927\n",
       "51    0.007210\n",
       "52    0.008304\n",
       "53    1.000000\n",
       "Name: 53, dtype: float64"
      ]
     },
     "execution_count": 9,
     "metadata": {},
     "output_type": "execute_result"
    }
   ],
   "source": [
    "abs(train_trim.corr()[53])"
   ]
  },
  {
   "cell_type": "markdown",
   "id": "734e2e27",
   "metadata": {},
   "source": [
    "Vemos que en todos los casos la correlación con respecto a la columna 53 está muy por debajo de 0.8.\n",
    "Por lo tanto, no eliminaremos ninguna columna. Este dataset parece estar bastante procesado y limpio.\n",
    "Veamos cómo queda el heatmap con la columna 37 eliminada."
   ]
  },
  {
   "cell_type": "code",
   "execution_count": 10,
   "id": "02372b3b",
   "metadata": {},
   "outputs": [
    {
     "data": {
      "text/plain": [
       "<AxesSubplot:>"
      ]
     },
     "execution_count": 10,
     "metadata": {},
     "output_type": "execute_result"
    },
    {
     "data": {
      "image/png": "[encoded data removed]",
      "text/plain": [
       "<Figure size 720x720 with 2 Axes>"
      ]
     },
     "metadata": {
      "needs_background": "light"
     },
     "output_type": "display_data"
    }
   ],
   "source": [
    "train_trim_corr_matrix = train_trim.corr()\n",
    "fig, ax = plt.subplots(figsize=(10, 10))\n",
    "sns.heatmap(train_trim_corr_matrix)"
   ]
  },
  {
   "cell_type": "markdown",
   "id": "13e49832",
   "metadata": {},
   "source": [
    "# Modelos y evaluación\n",
    "Probar diferentes modelos para predecir la variable objetivo. Calcular las métricas que considere relevantes. Comentar los resultados. "
   ]
  },
  {
   "cell_type": "code",
   "execution_count": 11,
   "id": "a3e720e9",
   "metadata": {},
   "outputs": [],
   "source": [
    "# Armo las matrices X_train, X_test, y los vectores Y_train, Y_test\n",
    "\n",
    "X_train = train_trim.drop(53, axis=1)\n",
    "Y_train = train_trim[53]\n",
    "\n",
    "# Recordemos que habíamos dropeado la columna 37 del dataset de train.\n",
    "# Hacemos lo mismo para el dataset de test, recordando también\n",
    "# de eliminar la columna 53\n",
    "\n",
    "X_test = test.drop(columns=[37,53], axis=1)\n",
    "Y_test = test[53]\n"
   ]
  },
  {
   "cell_type": "code",
   "execution_count": 12,
   "id": "78e75749",
   "metadata": {},
   "outputs": [
    {
     "name": "stdout",
     "output_type": "stream",
     "text": [
      "(100, 52)\n",
      "(100,)\n"
     ]
    }
   ],
   "source": [
    "# Verificamos que las shapes sean consistentes\n",
    "print(X_test.shape)\n",
    "print(Y_test.shape)"
   ]
  },
  {
   "cell_type": "code",
   "execution_count": 13,
   "id": "9a780e81",
   "metadata": {},
   "outputs": [],
   "source": [
    "from sklearn.linear_model import LinearRegression\n",
    "from sklearn.metrics import mean_squared_error, r2_score"
   ]
  },
  {
   "cell_type": "code",
   "execution_count": 14,
   "id": "f36ac6aa",
   "metadata": {},
   "outputs": [],
   "source": [
    "model = LinearRegression()\n",
    "model.fit(X_train, Y_train)\n",
    "Y_pred = model.predict(X_test)"
   ]
  },
  {
   "cell_type": "code",
   "execution_count": 15,
   "id": "875e08e0",
   "metadata": {},
   "outputs": [
    {
     "name": "stdout",
     "output_type": "stream",
     "text": [
      "MSE: 1860.394081416852\n",
      "Ordenada: -5.113862237236396\n",
      "Variance Score (mejor=1) 0.51\n"
     ]
    }
   ],
   "source": [
    "print(\"MSE: {}\".format(mean_squared_error(Y_pred, Y_test)))\n",
    "print(\"Ordenada: {}\".format(model.intercept_))\n",
    "print(\"Variance Score (mejor=1) {:.2f}\".format(r2_score(Y_test, Y_pred)))"
   ]
  },
  {
   "cell_type": "markdown",
   "id": "b633beef",
   "metadata": {},
   "source": [
    "Vemos que el score de varianza está lejos de 1, este valor nos da una idea de que la estimación no ha sido muy buena. Haremos una comparación de valores de test vs valores predichos. "
   ]
  },
  {
   "cell_type": "code",
   "execution_count": 40,
   "id": "dd8162be",
   "metadata": {},
   "outputs": [
    {
     "data": {
      "image/png": "[encoded data removed]",
      "text/plain": [
       "<Figure size 864x576 with 1 Axes>"
      ]
     },
     "metadata": {
      "needs_background": "light"
     },
     "output_type": "display_data"
    }
   ],
   "source": [
    "df_dict = {'Y_test': Y_test[0:100],\n",
    "            'Y_pred': Y_pred[0:100]}\n",
    "df = pd.DataFrame(df_dict, columns=['Y_test','Y_pred'])\n",
    "df_tail = df.tail(50)\n",
    "df_tail.plot(kind='bar',figsize=(12,8))\n",
    "plt.show()"
   ]
  },
  {
   "cell_type": "code",
   "execution_count": 38,
   "id": "fde182e1",
   "metadata": {},
   "outputs": [
    {
     "data": {
      "image/png": "[encoded data removed]",
      "text/plain": [
       "<Figure size 864x576 with 1 Axes>"
      ]
     },
     "metadata": {
      "needs_background": "light"
     },
     "output_type": "display_data"
    }
   ],
   "source": [
    "# Ahora mostramos los primeros 50\n",
    "\n",
    "df_head = df.head(50)\n",
    "df_head.plot(kind='bar',figsize=(12,8))\n",
    "plt.show()"
   ]
  },
  {
   "cell_type": "markdown",
   "id": "528497f6",
   "metadata": {},
   "source": [
    "Conclusión: vemos que la estimación no es del todo buena. Restan probar diferentes alternativas que permitan mejorar esta estimación."
   ]
  },
  {
   "cell_type": "code",
   "execution_count": null,
   "id": "dbfa7e02",
   "metadata": {},
   "outputs": [],
   "source": []
  }
 ],
 "metadata": {
  "kernelspec": {
   "display_name": "Python 3",
   "language": "python",
   "name": "python3"
  },
  "language_info": {
   "codemirror_mode": {
    "name": "ipython",
    "version": 3
   },
   "file_extension": ".py",
   "mimetype": "text/x-python",
   "name": "python",
   "nbconvert_exporter": "python",
   "pygments_lexer": "ipython3",
   "version": "3.9.2"
  }
 },
 "nbformat": 4,
 "nbformat_minor": 5
}
